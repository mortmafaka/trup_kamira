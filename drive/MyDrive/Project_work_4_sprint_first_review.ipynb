{
 "cells": [
  {
   "cell_type": "markdown",
   "id": "bef14856",
   "metadata": {},
   "source": [
    "<div class=\"alert alert-info\">\n",
    "<font size=\"5\"><b>Комментарий ревьюера 2</b></font>\n",
    "\n",
    "Привет еще раз. Спасибо, что доделал работу. Оформление комментариев по работе сохраняется. Только обозначим, что это вторая итерация. \n",
    "\n",
    "</div>"
   ]
  },
  {
   "cell_type": "markdown",
   "id": "afcfc18c",
   "metadata": {},
   "source": [
    "<div class=\"alert alert-info\">\n",
    "<font size=\"5\"><b>Комментарий ревьюера</b></font>\n",
    "\n",
    "Привет, Иван! Спасибо, что прислал задание:) Меня зовут Слепцов Артем и я буду проверять твой проект) Ты проделал большую работу над проектом. Будет здорово, если ты, надеюсь, не против, если я буду на ты, будешь отвечать на комментарии и участвовать в диалоге. Если обращение на ты неприемлемо, то прошу сообщить. \n",
    "\n",
    "Мои комментарии обозначены пометкой **Комментарий ревьюера**. Далее в файле ты сможешь найти их в похожих ячейках:\n",
    "    \n",
    "<div class=\"alert alert-success\">Успех: Если фон комментария зелёный - всё сделано правильно. Рекомендации укажу таким же цветом;</div>\n",
    "        \n",
    "<div class=\"alert alert-warning\">Совет: Оранжевый - некритичные замечания;</div>\n",
    "        \n",
    "<div class=\"alert alert-danger\">Ошибка: Красный - нужно переделать. </div>\n",
    "        \n",
    "Не удаляй эти комментарии и постарайся учесть их в ходе выполнения данного проекта. Свои же комментарии ты можешь обозначать любым заметным способом. \n",
    "\n",
    "</div>"
   ]
  },
  {
   "cell_type": "markdown",
   "id": "e3825d88",
   "metadata": {
    "deletable": false,
    "editable": false,
    "id": "c81daeeb"
   },
   "source": [
    "# Исследование надежности заемщиков\n"
   ]
  },
  {
   "cell_type": "markdown",
   "id": "131adf59",
   "metadata": {
    "deletable": false,
    "editable": false,
    "id": "827c20bf"
   },
   "source": [
    "Во второй части проекта вы выполните шаги 3 и 4. Их вручную проверит ревьюер.\n",
    "Чтобы вам не пришлось писать код заново для шагов 1 и 2, мы добавили авторские решения в ячейки с кодом. \n",
    "\n"
   ]
  },
  {
   "cell_type": "markdown",
   "id": "9770ee71",
   "metadata": {
    "deletable": false,
    "editable": false,
    "id": "744d7639"
   },
   "source": [
    "## Откройте таблицу и изучите общую информацию о данных"
   ]
  },
  {
   "cell_type": "markdown",
   "id": "2abf1ad4",
   "metadata": {
    "deletable": false,
    "editable": false,
    "id": "e7a14c31"
   },
   "source": [
    "**Задание 1. Импортируйте библиотеку pandas. Считайте данные из csv-файла в датафрейм и сохраните в переменную `data`. Путь к файлу:**\n",
    "\n",
    "`/datasets/data.csv`"
   ]
  },
  {
   "cell_type": "code",
   "execution_count": 1,
   "id": "3fadaf5e",
   "metadata": {
    "deletable": false,
    "id": "7bcf75c9"
   },
   "outputs": [],
   "source": [
    "import pandas as pd\n",
    "\n",
    "try:\n",
    "    data = pd.read_csv('/datasets/data.csv')\n",
    "except:\n",
    "    data = pd.read_csv('https://code.s3.yandex.net/datasets/data.csv')"
   ]
  },
  {
   "cell_type": "markdown",
   "id": "ce0bd694",
   "metadata": {
    "deletable": false,
    "editable": false,
    "id": "b8038fe3"
   },
   "source": [
    "**Задание 2. Выведите первые 20 строчек датафрейма `data` на экран.**"
   ]
  },
  {
   "cell_type": "code",
   "execution_count": 2,
   "id": "fc0c7ede",
   "metadata": {
    "deletable": false,
    "id": "2a7cab99",
    "outputId": "1a8f3ef2-d323-4ec2-ddf7-89670b5944c4"
   },
   "outputs": [
    {
     "data": {
      "text/html": [
       "<div>\n",
       "<style scoped>\n",
       "    .dataframe tbody tr th:only-of-type {\n",
       "        vertical-align: middle;\n",
       "    }\n",
       "\n",
       "    .dataframe tbody tr th {\n",
       "        vertical-align: top;\n",
       "    }\n",
       "\n",
       "    .dataframe thead th {\n",
       "        text-align: right;\n",
       "    }\n",
       "</style>\n",
       "<table border=\"1\" class=\"dataframe\">\n",
       "  <thead>\n",
       "    <tr style=\"text-align: right;\">\n",
       "      <th></th>\n",
       "      <th>children</th>\n",
       "      <th>days_employed</th>\n",
       "      <th>dob_years</th>\n",
       "      <th>education</th>\n",
       "      <th>education_id</th>\n",
       "      <th>family_status</th>\n",
       "      <th>family_status_id</th>\n",
       "      <th>gender</th>\n",
       "      <th>income_type</th>\n",
       "      <th>debt</th>\n",
       "      <th>total_income</th>\n",
       "      <th>purpose</th>\n",
       "    </tr>\n",
       "  </thead>\n",
       "  <tbody>\n",
       "    <tr>\n",
       "      <th>0</th>\n",
       "      <td>1</td>\n",
       "      <td>-8437.673028</td>\n",
       "      <td>42</td>\n",
       "      <td>высшее</td>\n",
       "      <td>0</td>\n",
       "      <td>женат / замужем</td>\n",
       "      <td>0</td>\n",
       "      <td>F</td>\n",
       "      <td>сотрудник</td>\n",
       "      <td>0</td>\n",
       "      <td>253875.639453</td>\n",
       "      <td>покупка жилья</td>\n",
       "    </tr>\n",
       "    <tr>\n",
       "      <th>1</th>\n",
       "      <td>1</td>\n",
       "      <td>-4024.803754</td>\n",
       "      <td>36</td>\n",
       "      <td>среднее</td>\n",
       "      <td>1</td>\n",
       "      <td>женат / замужем</td>\n",
       "      <td>0</td>\n",
       "      <td>F</td>\n",
       "      <td>сотрудник</td>\n",
       "      <td>0</td>\n",
       "      <td>112080.014102</td>\n",
       "      <td>приобретение автомобиля</td>\n",
       "    </tr>\n",
       "    <tr>\n",
       "      <th>2</th>\n",
       "      <td>0</td>\n",
       "      <td>-5623.422610</td>\n",
       "      <td>33</td>\n",
       "      <td>Среднее</td>\n",
       "      <td>1</td>\n",
       "      <td>женат / замужем</td>\n",
       "      <td>0</td>\n",
       "      <td>M</td>\n",
       "      <td>сотрудник</td>\n",
       "      <td>0</td>\n",
       "      <td>145885.952297</td>\n",
       "      <td>покупка жилья</td>\n",
       "    </tr>\n",
       "    <tr>\n",
       "      <th>3</th>\n",
       "      <td>3</td>\n",
       "      <td>-4124.747207</td>\n",
       "      <td>32</td>\n",
       "      <td>среднее</td>\n",
       "      <td>1</td>\n",
       "      <td>женат / замужем</td>\n",
       "      <td>0</td>\n",
       "      <td>M</td>\n",
       "      <td>сотрудник</td>\n",
       "      <td>0</td>\n",
       "      <td>267628.550329</td>\n",
       "      <td>дополнительное образование</td>\n",
       "    </tr>\n",
       "    <tr>\n",
       "      <th>4</th>\n",
       "      <td>0</td>\n",
       "      <td>340266.072047</td>\n",
       "      <td>53</td>\n",
       "      <td>среднее</td>\n",
       "      <td>1</td>\n",
       "      <td>гражданский брак</td>\n",
       "      <td>1</td>\n",
       "      <td>F</td>\n",
       "      <td>пенсионер</td>\n",
       "      <td>0</td>\n",
       "      <td>158616.077870</td>\n",
       "      <td>сыграть свадьбу</td>\n",
       "    </tr>\n",
       "    <tr>\n",
       "      <th>5</th>\n",
       "      <td>0</td>\n",
       "      <td>-926.185831</td>\n",
       "      <td>27</td>\n",
       "      <td>высшее</td>\n",
       "      <td>0</td>\n",
       "      <td>гражданский брак</td>\n",
       "      <td>1</td>\n",
       "      <td>M</td>\n",
       "      <td>компаньон</td>\n",
       "      <td>0</td>\n",
       "      <td>255763.565419</td>\n",
       "      <td>покупка жилья</td>\n",
       "    </tr>\n",
       "    <tr>\n",
       "      <th>6</th>\n",
       "      <td>0</td>\n",
       "      <td>-2879.202052</td>\n",
       "      <td>43</td>\n",
       "      <td>высшее</td>\n",
       "      <td>0</td>\n",
       "      <td>женат / замужем</td>\n",
       "      <td>0</td>\n",
       "      <td>F</td>\n",
       "      <td>компаньон</td>\n",
       "      <td>0</td>\n",
       "      <td>240525.971920</td>\n",
       "      <td>операции с жильем</td>\n",
       "    </tr>\n",
       "    <tr>\n",
       "      <th>7</th>\n",
       "      <td>0</td>\n",
       "      <td>-152.779569</td>\n",
       "      <td>50</td>\n",
       "      <td>СРЕДНЕЕ</td>\n",
       "      <td>1</td>\n",
       "      <td>женат / замужем</td>\n",
       "      <td>0</td>\n",
       "      <td>M</td>\n",
       "      <td>сотрудник</td>\n",
       "      <td>0</td>\n",
       "      <td>135823.934197</td>\n",
       "      <td>образование</td>\n",
       "    </tr>\n",
       "    <tr>\n",
       "      <th>8</th>\n",
       "      <td>2</td>\n",
       "      <td>-6929.865299</td>\n",
       "      <td>35</td>\n",
       "      <td>ВЫСШЕЕ</td>\n",
       "      <td>0</td>\n",
       "      <td>гражданский брак</td>\n",
       "      <td>1</td>\n",
       "      <td>F</td>\n",
       "      <td>сотрудник</td>\n",
       "      <td>0</td>\n",
       "      <td>95856.832424</td>\n",
       "      <td>на проведение свадьбы</td>\n",
       "    </tr>\n",
       "    <tr>\n",
       "      <th>9</th>\n",
       "      <td>0</td>\n",
       "      <td>-2188.756445</td>\n",
       "      <td>41</td>\n",
       "      <td>среднее</td>\n",
       "      <td>1</td>\n",
       "      <td>женат / замужем</td>\n",
       "      <td>0</td>\n",
       "      <td>M</td>\n",
       "      <td>сотрудник</td>\n",
       "      <td>0</td>\n",
       "      <td>144425.938277</td>\n",
       "      <td>покупка жилья для семьи</td>\n",
       "    </tr>\n",
       "    <tr>\n",
       "      <th>10</th>\n",
       "      <td>2</td>\n",
       "      <td>-4171.483647</td>\n",
       "      <td>36</td>\n",
       "      <td>высшее</td>\n",
       "      <td>0</td>\n",
       "      <td>женат / замужем</td>\n",
       "      <td>0</td>\n",
       "      <td>M</td>\n",
       "      <td>компаньон</td>\n",
       "      <td>0</td>\n",
       "      <td>113943.491460</td>\n",
       "      <td>покупка недвижимости</td>\n",
       "    </tr>\n",
       "    <tr>\n",
       "      <th>11</th>\n",
       "      <td>0</td>\n",
       "      <td>-792.701887</td>\n",
       "      <td>40</td>\n",
       "      <td>среднее</td>\n",
       "      <td>1</td>\n",
       "      <td>женат / замужем</td>\n",
       "      <td>0</td>\n",
       "      <td>F</td>\n",
       "      <td>сотрудник</td>\n",
       "      <td>0</td>\n",
       "      <td>77069.234271</td>\n",
       "      <td>покупка коммерческой недвижимости</td>\n",
       "    </tr>\n",
       "    <tr>\n",
       "      <th>12</th>\n",
       "      <td>0</td>\n",
       "      <td>NaN</td>\n",
       "      <td>65</td>\n",
       "      <td>среднее</td>\n",
       "      <td>1</td>\n",
       "      <td>гражданский брак</td>\n",
       "      <td>1</td>\n",
       "      <td>M</td>\n",
       "      <td>пенсионер</td>\n",
       "      <td>0</td>\n",
       "      <td>NaN</td>\n",
       "      <td>сыграть свадьбу</td>\n",
       "    </tr>\n",
       "    <tr>\n",
       "      <th>13</th>\n",
       "      <td>0</td>\n",
       "      <td>-1846.641941</td>\n",
       "      <td>54</td>\n",
       "      <td>неоконченное высшее</td>\n",
       "      <td>2</td>\n",
       "      <td>женат / замужем</td>\n",
       "      <td>0</td>\n",
       "      <td>F</td>\n",
       "      <td>сотрудник</td>\n",
       "      <td>0</td>\n",
       "      <td>130458.228857</td>\n",
       "      <td>приобретение автомобиля</td>\n",
       "    </tr>\n",
       "    <tr>\n",
       "      <th>14</th>\n",
       "      <td>0</td>\n",
       "      <td>-1844.956182</td>\n",
       "      <td>56</td>\n",
       "      <td>высшее</td>\n",
       "      <td>0</td>\n",
       "      <td>гражданский брак</td>\n",
       "      <td>1</td>\n",
       "      <td>F</td>\n",
       "      <td>компаньон</td>\n",
       "      <td>1</td>\n",
       "      <td>165127.911772</td>\n",
       "      <td>покупка жилой недвижимости</td>\n",
       "    </tr>\n",
       "    <tr>\n",
       "      <th>15</th>\n",
       "      <td>1</td>\n",
       "      <td>-972.364419</td>\n",
       "      <td>26</td>\n",
       "      <td>среднее</td>\n",
       "      <td>1</td>\n",
       "      <td>женат / замужем</td>\n",
       "      <td>0</td>\n",
       "      <td>F</td>\n",
       "      <td>сотрудник</td>\n",
       "      <td>0</td>\n",
       "      <td>116820.904450</td>\n",
       "      <td>строительство собственной недвижимости</td>\n",
       "    </tr>\n",
       "    <tr>\n",
       "      <th>16</th>\n",
       "      <td>0</td>\n",
       "      <td>-1719.934226</td>\n",
       "      <td>35</td>\n",
       "      <td>среднее</td>\n",
       "      <td>1</td>\n",
       "      <td>женат / замужем</td>\n",
       "      <td>0</td>\n",
       "      <td>F</td>\n",
       "      <td>сотрудник</td>\n",
       "      <td>0</td>\n",
       "      <td>289202.704229</td>\n",
       "      <td>недвижимость</td>\n",
       "    </tr>\n",
       "    <tr>\n",
       "      <th>17</th>\n",
       "      <td>0</td>\n",
       "      <td>-2369.999720</td>\n",
       "      <td>33</td>\n",
       "      <td>высшее</td>\n",
       "      <td>0</td>\n",
       "      <td>гражданский брак</td>\n",
       "      <td>1</td>\n",
       "      <td>M</td>\n",
       "      <td>сотрудник</td>\n",
       "      <td>0</td>\n",
       "      <td>90410.586745</td>\n",
       "      <td>строительство недвижимости</td>\n",
       "    </tr>\n",
       "    <tr>\n",
       "      <th>18</th>\n",
       "      <td>0</td>\n",
       "      <td>400281.136913</td>\n",
       "      <td>53</td>\n",
       "      <td>среднее</td>\n",
       "      <td>1</td>\n",
       "      <td>вдовец / вдова</td>\n",
       "      <td>2</td>\n",
       "      <td>F</td>\n",
       "      <td>пенсионер</td>\n",
       "      <td>0</td>\n",
       "      <td>56823.777243</td>\n",
       "      <td>на покупку подержанного автомобиля</td>\n",
       "    </tr>\n",
       "    <tr>\n",
       "      <th>19</th>\n",
       "      <td>0</td>\n",
       "      <td>-10038.818549</td>\n",
       "      <td>48</td>\n",
       "      <td>СРЕДНЕЕ</td>\n",
       "      <td>1</td>\n",
       "      <td>в разводе</td>\n",
       "      <td>3</td>\n",
       "      <td>F</td>\n",
       "      <td>сотрудник</td>\n",
       "      <td>0</td>\n",
       "      <td>242831.107982</td>\n",
       "      <td>на покупку своего автомобиля</td>\n",
       "    </tr>\n",
       "  </tbody>\n",
       "</table>\n",
       "</div>"
      ],
      "text/plain": [
       "    children  days_employed  dob_years            education  education_id  \\\n",
       "0          1   -8437.673028         42               высшее             0   \n",
       "1          1   -4024.803754         36              среднее             1   \n",
       "2          0   -5623.422610         33              Среднее             1   \n",
       "3          3   -4124.747207         32              среднее             1   \n",
       "4          0  340266.072047         53              среднее             1   \n",
       "5          0    -926.185831         27               высшее             0   \n",
       "6          0   -2879.202052         43               высшее             0   \n",
       "7          0    -152.779569         50              СРЕДНЕЕ             1   \n",
       "8          2   -6929.865299         35               ВЫСШЕЕ             0   \n",
       "9          0   -2188.756445         41              среднее             1   \n",
       "10         2   -4171.483647         36               высшее             0   \n",
       "11         0    -792.701887         40              среднее             1   \n",
       "12         0            NaN         65              среднее             1   \n",
       "13         0   -1846.641941         54  неоконченное высшее             2   \n",
       "14         0   -1844.956182         56               высшее             0   \n",
       "15         1    -972.364419         26              среднее             1   \n",
       "16         0   -1719.934226         35              среднее             1   \n",
       "17         0   -2369.999720         33               высшее             0   \n",
       "18         0  400281.136913         53              среднее             1   \n",
       "19         0  -10038.818549         48              СРЕДНЕЕ             1   \n",
       "\n",
       "       family_status  family_status_id gender income_type  debt  \\\n",
       "0    женат / замужем                 0      F   сотрудник     0   \n",
       "1    женат / замужем                 0      F   сотрудник     0   \n",
       "2    женат / замужем                 0      M   сотрудник     0   \n",
       "3    женат / замужем                 0      M   сотрудник     0   \n",
       "4   гражданский брак                 1      F   пенсионер     0   \n",
       "5   гражданский брак                 1      M   компаньон     0   \n",
       "6    женат / замужем                 0      F   компаньон     0   \n",
       "7    женат / замужем                 0      M   сотрудник     0   \n",
       "8   гражданский брак                 1      F   сотрудник     0   \n",
       "9    женат / замужем                 0      M   сотрудник     0   \n",
       "10   женат / замужем                 0      M   компаньон     0   \n",
       "11   женат / замужем                 0      F   сотрудник     0   \n",
       "12  гражданский брак                 1      M   пенсионер     0   \n",
       "13   женат / замужем                 0      F   сотрудник     0   \n",
       "14  гражданский брак                 1      F   компаньон     1   \n",
       "15   женат / замужем                 0      F   сотрудник     0   \n",
       "16   женат / замужем                 0      F   сотрудник     0   \n",
       "17  гражданский брак                 1      M   сотрудник     0   \n",
       "18    вдовец / вдова                 2      F   пенсионер     0   \n",
       "19         в разводе                 3      F   сотрудник     0   \n",
       "\n",
       "     total_income                                 purpose  \n",
       "0   253875.639453                           покупка жилья  \n",
       "1   112080.014102                 приобретение автомобиля  \n",
       "2   145885.952297                           покупка жилья  \n",
       "3   267628.550329              дополнительное образование  \n",
       "4   158616.077870                         сыграть свадьбу  \n",
       "5   255763.565419                           покупка жилья  \n",
       "6   240525.971920                       операции с жильем  \n",
       "7   135823.934197                             образование  \n",
       "8    95856.832424                   на проведение свадьбы  \n",
       "9   144425.938277                 покупка жилья для семьи  \n",
       "10  113943.491460                    покупка недвижимости  \n",
       "11   77069.234271       покупка коммерческой недвижимости  \n",
       "12            NaN                         сыграть свадьбу  \n",
       "13  130458.228857                 приобретение автомобиля  \n",
       "14  165127.911772              покупка жилой недвижимости  \n",
       "15  116820.904450  строительство собственной недвижимости  \n",
       "16  289202.704229                            недвижимость  \n",
       "17   90410.586745              строительство недвижимости  \n",
       "18   56823.777243      на покупку подержанного автомобиля  \n",
       "19  242831.107982            на покупку своего автомобиля  "
      ]
     },
     "execution_count": 2,
     "metadata": {},
     "output_type": "execute_result"
    }
   ],
   "source": [
    "data.head(20)"
   ]
  },
  {
   "cell_type": "markdown",
   "id": "3f63e358",
   "metadata": {
    "deletable": false,
    "editable": false,
    "id": "1c12e233"
   },
   "source": [
    "**Задание 3. Выведите основную информацию о датафрейме с помощью метода `info()`.**"
   ]
  },
  {
   "cell_type": "code",
   "execution_count": 3,
   "id": "bbedb83b",
   "metadata": {
    "deletable": false,
    "id": "2b757bca",
    "outputId": "15376089-8dad-46c9-b520-c05248d43158"
   },
   "outputs": [
    {
     "name": "stdout",
     "output_type": "stream",
     "text": [
      "<class 'pandas.core.frame.DataFrame'>\n",
      "RangeIndex: 21525 entries, 0 to 21524\n",
      "Data columns (total 12 columns):\n",
      " #   Column            Non-Null Count  Dtype  \n",
      "---  ------            --------------  -----  \n",
      " 0   children          21525 non-null  int64  \n",
      " 1   days_employed     19351 non-null  float64\n",
      " 2   dob_years         21525 non-null  int64  \n",
      " 3   education         21525 non-null  object \n",
      " 4   education_id      21525 non-null  int64  \n",
      " 5   family_status     21525 non-null  object \n",
      " 6   family_status_id  21525 non-null  int64  \n",
      " 7   gender            21525 non-null  object \n",
      " 8   income_type       21525 non-null  object \n",
      " 9   debt              21525 non-null  int64  \n",
      " 10  total_income      19351 non-null  float64\n",
      " 11  purpose           21525 non-null  object \n",
      "dtypes: float64(2), int64(5), object(5)\n",
      "memory usage: 2.0+ MB\n"
     ]
    }
   ],
   "source": [
    "data.info()"
   ]
  },
  {
   "cell_type": "markdown",
   "id": "14f7597a",
   "metadata": {
    "deletable": false,
    "editable": false,
    "id": "333ec665"
   },
   "source": [
    "## Предобработка данных"
   ]
  },
  {
   "cell_type": "markdown",
   "id": "0dd2f0e7",
   "metadata": {
    "deletable": false,
    "editable": false,
    "id": "02d92d53"
   },
   "source": [
    "### Удаление пропусков"
   ]
  },
  {
   "cell_type": "markdown",
   "id": "25e4ca80",
   "metadata": {
    "deletable": false,
    "editable": false,
    "id": "cd84967c"
   },
   "source": [
    "**Задание 4. Выведите количество пропущенных значений для каждого столбца. Используйте комбинацию двух методов.**"
   ]
  },
  {
   "cell_type": "code",
   "execution_count": 4,
   "id": "178e55f1",
   "metadata": {
    "deletable": false,
    "id": "7f9b2309",
    "outputId": "81f4d817-781c-465c-ed15-91ce4446810d"
   },
   "outputs": [
    {
     "data": {
      "text/plain": [
       "children               0\n",
       "days_employed       2174\n",
       "dob_years              0\n",
       "education              0\n",
       "education_id           0\n",
       "family_status          0\n",
       "family_status_id       0\n",
       "gender                 0\n",
       "income_type            0\n",
       "debt                   0\n",
       "total_income        2174\n",
       "purpose                0\n",
       "dtype: int64"
      ]
     },
     "execution_count": 4,
     "metadata": {},
     "output_type": "execute_result"
    }
   ],
   "source": [
    "data.isna().sum()"
   ]
  },
  {
   "cell_type": "markdown",
   "id": "43da3849",
   "metadata": {
    "deletable": false,
    "editable": false,
    "id": "db86e27b"
   },
   "source": [
    "**Задание 5. В двух столбцах есть пропущенные значения. Один из них — `days_employed`. Пропуски в этом столбце вы обработаете на следующем этапе. Другой столбец с пропущенными значениями — `total_income` — хранит данные о доходах. На сумму дохода сильнее всего влияет тип занятости, поэтому заполнить пропуски в этом столбце нужно медианным значением по каждому типу из столбца `income_type`. Например, у человека с типом занятости `сотрудник` пропуск в столбце `total_income` должен быть заполнен медианным доходом среди всех записей с тем же типом.**"
   ]
  },
  {
   "cell_type": "code",
   "execution_count": 5,
   "id": "abe90f39",
   "metadata": {
    "deletable": false,
    "id": "42006a93"
   },
   "outputs": [],
   "source": [
    "for t in data['income_type'].unique():\n",
    "    data.loc[(data['income_type'] == t) & (data['total_income'].isna()), 'total_income'] = \\\n",
    "    data.loc[(data['income_type'] == t), 'total_income'].median()"
   ]
  },
  {
   "cell_type": "markdown",
   "id": "154da36d",
   "metadata": {
    "deletable": false,
    "editable": false,
    "id": "89da5ece"
   },
   "source": [
    "### Обработка аномальных значений"
   ]
  },
  {
   "cell_type": "markdown",
   "id": "b96b3ffc",
   "metadata": {
    "deletable": false,
    "editable": false,
    "id": "57964554"
   },
   "source": [
    "**Задание 6. В данных могут встречаться артефакты (аномалии) — значения, которые не отражают действительность и появились по какой-то ошибке. таким артефактом будет отрицательное количество дней трудового стажа в столбце `days_employed`. Для реальных данных это нормально. Обработайте значения в этом столбце: замените все отрицательные значения положительными с помощью метода `abs()`.**"
   ]
  },
  {
   "cell_type": "code",
   "execution_count": 6,
   "id": "8438607c",
   "metadata": {
    "deletable": false,
    "id": "f6f055bf"
   },
   "outputs": [],
   "source": [
    "data['days_employed'] = data['days_employed'].abs()"
   ]
  },
  {
   "cell_type": "markdown",
   "id": "16701619",
   "metadata": {
    "deletable": false,
    "editable": false,
    "id": "6107dd2f"
   },
   "source": [
    "**Задание 7. Для каждого типа занятости выведите медианное значение трудового стажа `days_employed` в днях.**"
   ]
  },
  {
   "cell_type": "code",
   "execution_count": 7,
   "id": "cc735929",
   "metadata": {
    "deletable": false,
    "id": "85a5faf6",
    "outputId": "801ef80e-522b-4668-f34e-565af7432bcf"
   },
   "outputs": [
    {
     "data": {
      "text/plain": [
       "income_type\n",
       "безработный        366413.652744\n",
       "в декрете            3296.759962\n",
       "госслужащий          2689.368353\n",
       "компаньон            1547.382223\n",
       "пенсионер          365213.306266\n",
       "предприниматель       520.848083\n",
       "сотрудник            1574.202821\n",
       "студент               578.751554\n",
       "Name: days_employed, dtype: float64"
      ]
     },
     "execution_count": 7,
     "metadata": {},
     "output_type": "execute_result"
    }
   ],
   "source": [
    "data.groupby('income_type')['days_employed'].agg('median')"
   ]
  },
  {
   "cell_type": "markdown",
   "id": "373eba63",
   "metadata": {
    "deletable": false,
    "editable": false,
    "id": "38d1a030"
   },
   "source": [
    "У двух типов (безработные и пенсионеры) получатся аномально большие значения. Исправить такие значения сложно, поэтому оставьте их как есть. Тем более этот столбец не понадобится вам для исследования."
   ]
  },
  {
   "cell_type": "markdown",
   "id": "be6c84d9",
   "metadata": {
    "deletable": false,
    "editable": false,
    "id": "d8a9f147"
   },
   "source": [
    "**Задание 8. Выведите перечень уникальных значений столбца `children`.**"
   ]
  },
  {
   "cell_type": "code",
   "execution_count": 8,
   "id": "946dd70e",
   "metadata": {
    "deletable": false,
    "id": "ef5056eb",
    "outputId": "6975b15c-7f95-4697-d16d-a0c79b657b03"
   },
   "outputs": [
    {
     "data": {
      "text/plain": [
       "array([ 1,  0,  3,  2, -1,  4, 20,  5])"
      ]
     },
     "execution_count": 8,
     "metadata": {},
     "output_type": "execute_result"
    }
   ],
   "source": [
    "data['children'].unique()"
   ]
  },
  {
   "cell_type": "markdown",
   "id": "4108a52e",
   "metadata": {
    "deletable": false,
    "editable": false,
    "id": "40b9ebf2"
   },
   "source": [
    "**Задание 9. В столбце `children` есть два аномальных значения. Удалите строки, в которых встречаются такие аномальные значения из датафрейма `data`.**"
   ]
  },
  {
   "cell_type": "code",
   "execution_count": 9,
   "id": "b7b61e6d",
   "metadata": {
    "deletable": false,
    "id": "3ff9801d"
   },
   "outputs": [],
   "source": [
    "data = data[(data['children'] != -1) & (data['children'] != 20)]"
   ]
  },
  {
   "cell_type": "markdown",
   "id": "3db984c6",
   "metadata": {
    "deletable": false,
    "editable": false,
    "id": "bbc4d0ce"
   },
   "source": [
    "**Задание 10. Ещё раз выведите перечень уникальных значений столбца `children`, чтобы убедиться, что артефакты удалены.**"
   ]
  },
  {
   "cell_type": "code",
   "execution_count": 10,
   "id": "7d552a8e",
   "metadata": {
    "deletable": false,
    "id": "ad4fa8b7",
    "outputId": "b2097101-d49d-44d9-901b-32a65c9463d1"
   },
   "outputs": [
    {
     "data": {
      "text/plain": [
       "array([1, 0, 3, 2, 4, 5])"
      ]
     },
     "execution_count": 10,
     "metadata": {},
     "output_type": "execute_result"
    }
   ],
   "source": [
    "data['children'].unique()"
   ]
  },
  {
   "cell_type": "markdown",
   "id": "7598ce61",
   "metadata": {
    "deletable": false,
    "editable": false,
    "id": "75440b63"
   },
   "source": [
    "### Удаление пропусков (продолжение)"
   ]
  },
  {
   "cell_type": "markdown",
   "id": "830586ab",
   "metadata": {
    "deletable": false,
    "editable": false,
    "id": "f4ea573f"
   },
   "source": [
    "**Задание 11. Заполните пропуски в столбце `days_employed` медианными значениями по каждого типа занятости `income_type`.**"
   ]
  },
  {
   "cell_type": "code",
   "execution_count": 11,
   "id": "113d2211",
   "metadata": {
    "deletable": false,
    "id": "af6b1a7e"
   },
   "outputs": [],
   "source": [
    "for t in data['income_type'].unique():\n",
    "    data.loc[(data['income_type'] == t) & (data['days_employed'].isna()), 'days_employed'] = \\\n",
    "    data.loc[(data['income_type'] == t), 'days_employed'].median()"
   ]
  },
  {
   "cell_type": "markdown",
   "id": "a7c77281",
   "metadata": {
    "deletable": false,
    "editable": false,
    "id": "2753f40d"
   },
   "source": [
    "**Задание 12. Убедитесь, что все пропуски заполнены. Проверьте себя и ещё раз выведите количество пропущенных значений для каждого столбца с помощью двух методов.**"
   ]
  },
  {
   "cell_type": "code",
   "execution_count": 12,
   "id": "afaff1be",
   "metadata": {
    "deletable": false,
    "id": "55f78bc2",
    "outputId": "8da1e4e1-358e-4e87-98c9-f261bce0a7b2"
   },
   "outputs": [
    {
     "data": {
      "text/plain": [
       "children            0\n",
       "days_employed       0\n",
       "dob_years           0\n",
       "education           0\n",
       "education_id        0\n",
       "family_status       0\n",
       "family_status_id    0\n",
       "gender              0\n",
       "income_type         0\n",
       "debt                0\n",
       "total_income        0\n",
       "purpose             0\n",
       "dtype: int64"
      ]
     },
     "execution_count": 12,
     "metadata": {},
     "output_type": "execute_result"
    }
   ],
   "source": [
    "data.isna().sum()"
   ]
  },
  {
   "cell_type": "markdown",
   "id": "fa60b011",
   "metadata": {
    "deletable": false,
    "editable": false,
    "id": "ddc81e43"
   },
   "source": [
    "### Изменение типов данных"
   ]
  },
  {
   "cell_type": "markdown",
   "id": "af04634f",
   "metadata": {
    "deletable": false,
    "editable": false,
    "id": "42d19d24"
   },
   "source": [
    "**Задание 13. Замените вещественный тип данных в столбце `total_income` на целочисленный с помощью метода `astype()`.**"
   ]
  },
  {
   "cell_type": "code",
   "execution_count": 13,
   "id": "ad2710bf",
   "metadata": {
    "deletable": false,
    "id": "920b65ad"
   },
   "outputs": [],
   "source": [
    "data['total_income'] = data['total_income'].astype(int)"
   ]
  },
  {
   "cell_type": "markdown",
   "id": "9e51f9e6",
   "metadata": {
    "deletable": false,
    "editable": false,
    "id": "80c420ba"
   },
   "source": [
    "### Обработка дубликатов"
   ]
  },
  {
   "cell_type": "markdown",
   "id": "f6d2f7ab",
   "metadata": {
    "deletable": false,
    "editable": false
   },
   "source": [
    "**Задание 14. Обработайте неявные дубликаты в столбце `education`. В этом столбце есть одни и те же значения, но записанные по-разному: с использованием заглавных и строчных букв. Приведите их к нижнему регистру. Проверьте остальные столбцы.**"
   ]
  },
  {
   "cell_type": "code",
   "execution_count": 14,
   "id": "940eee0a",
   "metadata": {
    "deletable": false
   },
   "outputs": [],
   "source": [
    "data['education'] = data['education'].str.lower()"
   ]
  },
  {
   "cell_type": "markdown",
   "id": "77a0d9bc",
   "metadata": {
    "deletable": false,
    "editable": false,
    "id": "dc587695"
   },
   "source": [
    "**Задание 15. Выведите на экран количество строк-дубликатов в данных. Если такие строки присутствуют, удалите их.**"
   ]
  },
  {
   "cell_type": "code",
   "execution_count": 15,
   "id": "1735c4e5",
   "metadata": {
    "deletable": false,
    "id": "3ee445e4",
    "outputId": "9684deba-1934-42d1-99e1-cda61740f822"
   },
   "outputs": [
    {
     "data": {
      "text/plain": [
       "71"
      ]
     },
     "execution_count": 15,
     "metadata": {},
     "output_type": "execute_result"
    }
   ],
   "source": [
    "data.duplicated().sum()"
   ]
  },
  {
   "cell_type": "code",
   "execution_count": 16,
   "id": "9fdcf219",
   "metadata": {
    "deletable": false,
    "id": "8575fe05"
   },
   "outputs": [],
   "source": [
    "data = data.drop_duplicates()"
   ]
  },
  {
   "cell_type": "markdown",
   "id": "e8443799",
   "metadata": {
    "deletable": false,
    "editable": false,
    "id": "9904cf55"
   },
   "source": [
    "### Категоризация данных"
   ]
  },
  {
   "cell_type": "markdown",
   "id": "38c2bb74",
   "metadata": {
    "deletable": false,
    "editable": false,
    "id": "72fcc8a2"
   },
   "source": [
    "**Задание 16. На основании диапазонов, указанных ниже, создайте в датафрейме `data` столбец `total_income_category` с категориями:**\n",
    "\n",
    "- 0–30000 — `'E'`;\n",
    "- 30001–50000 — `'D'`;\n",
    "- 50001–200000 — `'C'`;\n",
    "- 200001–1000000 — `'B'`;\n",
    "- 1000001 и выше — `'A'`.\n",
    "\n",
    "\n",
    "**Например, кредитополучателю с доходом 25000 нужно назначить категорию `'E'`, а клиенту, получающему 235000, — `'B'`. Используйте собственную функцию с именем `categorize_income()` и метод `apply()`.**"
   ]
  },
  {
   "cell_type": "code",
   "execution_count": 17,
   "id": "94a30832",
   "metadata": {
    "deletable": false,
    "id": "e1771346"
   },
   "outputs": [],
   "source": [
    "def categorize_income(income):\n",
    "    try:\n",
    "        if 0 <= income <= 30000:\n",
    "            return 'E'\n",
    "        elif 30001 <= income <= 50000:\n",
    "            return 'D'\n",
    "        elif 50001 <= income <= 200000:\n",
    "            return 'C'\n",
    "        elif 200001 <= income <= 1000000:\n",
    "            return 'B'\n",
    "        elif income >= 1000001:\n",
    "            return 'A'\n",
    "    except:\n",
    "        pass"
   ]
  },
  {
   "cell_type": "code",
   "execution_count": 18,
   "id": "10805576",
   "metadata": {
    "deletable": false,
    "id": "d5f3586d"
   },
   "outputs": [],
   "source": [
    "data['total_income_category'] = data['total_income'].apply(categorize_income)"
   ]
  },
  {
   "cell_type": "markdown",
   "id": "d1cf607d",
   "metadata": {
    "deletable": false,
    "editable": false,
    "id": "dde49b5c"
   },
   "source": [
    "**Задание 17. Выведите на экран перечень уникальных целей взятия кредита из столбца `purpose`.**"
   ]
  },
  {
   "cell_type": "code",
   "execution_count": 19,
   "id": "b127a612",
   "metadata": {
    "deletable": false,
    "id": "f67ce9b3",
    "outputId": "673c12d9-7d7e-4ae0-9812-c622c89dd244"
   },
   "outputs": [
    {
     "data": {
      "text/plain": [
       "array(['покупка жилья', 'приобретение автомобиля',\n",
       "       'дополнительное образование', 'сыграть свадьбу',\n",
       "       'операции с жильем', 'образование', 'на проведение свадьбы',\n",
       "       'покупка жилья для семьи', 'покупка недвижимости',\n",
       "       'покупка коммерческой недвижимости', 'покупка жилой недвижимости',\n",
       "       'строительство собственной недвижимости', 'недвижимость',\n",
       "       'строительство недвижимости', 'на покупку подержанного автомобиля',\n",
       "       'на покупку своего автомобиля',\n",
       "       'операции с коммерческой недвижимостью',\n",
       "       'строительство жилой недвижимости', 'жилье',\n",
       "       'операции со своей недвижимостью', 'автомобили',\n",
       "       'заняться образованием', 'сделка с подержанным автомобилем',\n",
       "       'получение образования', 'автомобиль', 'свадьба',\n",
       "       'получение дополнительного образования', 'покупка своего жилья',\n",
       "       'операции с недвижимостью', 'получение высшего образования',\n",
       "       'свой автомобиль', 'сделка с автомобилем',\n",
       "       'профильное образование', 'высшее образование',\n",
       "       'покупка жилья для сдачи', 'на покупку автомобиля', 'ремонт жилью',\n",
       "       'заняться высшим образованием'], dtype=object)"
      ]
     },
     "execution_count": 19,
     "metadata": {},
     "output_type": "execute_result"
    }
   ],
   "source": [
    "data['purpose'].unique()"
   ]
  },
  {
   "cell_type": "markdown",
   "id": "1b20c94f",
   "metadata": {
    "deletable": false,
    "editable": false,
    "id": "85d0aef0"
   },
   "source": [
    "**Задание 18. Создайте функцию, которая на основании данных из столбца `purpose` сформирует новый столбец `purpose_category`, в который войдут следующие категории:**\n",
    "\n",
    "- `'операции с автомобилем'`,\n",
    "- `'операции с недвижимостью'`,\n",
    "- `'проведение свадьбы'`,\n",
    "- `'получение образования'`.\n",
    "\n",
    "**Например, если в столбце `purpose` находится подстрока `'на покупку автомобиля'`, то в столбце `purpose_category` должна появиться строка `'операции с автомобилем'`.**\n",
    "\n",
    "**Используйте собственную функцию с именем `categorize_purpose()` и метод `apply()`. Изучите данные в столбце `purpose` и определите, какие подстроки помогут вам правильно определить категорию.**"
   ]
  },
  {
   "cell_type": "code",
   "execution_count": 26,
   "id": "3ab62783",
   "metadata": {
    "deletable": false,
    "id": "e149fab4"
   },
   "outputs": [],
   "source": [
    "def categorize_purpose(row):\n",
    "    try:\n",
    "        if 'автом' in row:\n",
    "            return 'операции с автомобилем'\n",
    "        elif 'жил' in row or 'недвиж' in row:\n",
    "            return 'операции с недвижимостью'\n",
    "        elif 'свад' in row:\n",
    "            return 'проведение свадьбы'\n",
    "        elif 'образов' in row:\n",
    "            return 'получение образования'\n",
    "    except:\n",
    "        return 'нет категории'"
   ]
  },
  {
   "cell_type": "code",
   "execution_count": 30,
   "id": "11379355",
   "metadata": {
    "deletable": false,
    "id": "bf36e69b"
   },
   "outputs": [
    {
     "data": {
      "text/plain": [
       "0        операции с недвижимостью\n",
       "1          операции с автомобилем\n",
       "2        операции с недвижимостью\n",
       "3           получение образования\n",
       "4              проведение свадьбы\n",
       "                   ...           \n",
       "21520    операции с недвижимостью\n",
       "21521      операции с автомобилем\n",
       "21522    операции с недвижимостью\n",
       "21523      операции с автомобилем\n",
       "21524      операции с автомобилем\n",
       "Name: purpose_category, Length: 21331, dtype: object"
      ]
     },
     "execution_count": 30,
     "metadata": {},
     "output_type": "execute_result"
    }
   ],
   "source": [
    "data['purpose_category'] = data['purpose'].apply(categorize_purpose)\n",
    "data['purpose_category'] "
   ]
  },
  {
   "cell_type": "markdown",
   "id": "dcdcbca3",
   "metadata": {
    "deletable": false,
    "editable": false,
    "id": "09b242bf"
   },
   "source": [
    "### Шаг 3. Исследуйте данные и ответьте на вопросы"
   ]
  },
  {
   "cell_type": "markdown",
   "id": "4df116a1",
   "metadata": {
    "deletable": false,
    "editable": false,
    "id": "c5d66278"
   },
   "source": [
    "#### 3.1 Есть ли зависимость между количеством детей и возвратом кредита в срок?"
   ]
  },
  {
   "cell_type": "code",
   "execution_count": 22,
   "id": "8e292448",
   "metadata": {
    "deletable": false,
    "id": "2cacfc4a"
   },
   "outputs": [
    {
     "data": {
      "text/html": [
       "<div>\n",
       "<style scoped>\n",
       "    .dataframe tbody tr th:only-of-type {\n",
       "        vertical-align: middle;\n",
       "    }\n",
       "\n",
       "    .dataframe tbody tr th {\n",
       "        vertical-align: top;\n",
       "    }\n",
       "\n",
       "    .dataframe thead th {\n",
       "        text-align: right;\n",
       "    }\n",
       "</style>\n",
       "<table border=\"1\" class=\"dataframe\">\n",
       "  <thead>\n",
       "    <tr style=\"text-align: right;\">\n",
       "      <th></th>\n",
       "      <th>sum</th>\n",
       "      <th>count</th>\n",
       "      <th>debt_rate</th>\n",
       "    </tr>\n",
       "    <tr>\n",
       "      <th>children</th>\n",
       "      <th></th>\n",
       "      <th></th>\n",
       "      <th></th>\n",
       "    </tr>\n",
       "  </thead>\n",
       "  <tbody>\n",
       "    <tr>\n",
       "      <th>4</th>\n",
       "      <td>4</td>\n",
       "      <td>41</td>\n",
       "      <td>9.756098</td>\n",
       "    </tr>\n",
       "    <tr>\n",
       "      <th>2</th>\n",
       "      <td>194</td>\n",
       "      <td>2052</td>\n",
       "      <td>9.454191</td>\n",
       "    </tr>\n",
       "    <tr>\n",
       "      <th>1</th>\n",
       "      <td>444</td>\n",
       "      <td>4808</td>\n",
       "      <td>9.234609</td>\n",
       "    </tr>\n",
       "    <tr>\n",
       "      <th>3</th>\n",
       "      <td>27</td>\n",
       "      <td>330</td>\n",
       "      <td>8.181818</td>\n",
       "    </tr>\n",
       "    <tr>\n",
       "      <th>0</th>\n",
       "      <td>1063</td>\n",
       "      <td>14091</td>\n",
       "      <td>7.543822</td>\n",
       "    </tr>\n",
       "    <tr>\n",
       "      <th>5</th>\n",
       "      <td>0</td>\n",
       "      <td>9</td>\n",
       "      <td>0.000000</td>\n",
       "    </tr>\n",
       "  </tbody>\n",
       "</table>\n",
       "</div>"
      ],
      "text/plain": [
       "           sum  count  debt_rate\n",
       "children                        \n",
       "4            4     41   9.756098\n",
       "2          194   2052   9.454191\n",
       "1          444   4808   9.234609\n",
       "3           27    330   8.181818\n",
       "0         1063  14091   7.543822\n",
       "5            0      9   0.000000"
      ]
     },
     "execution_count": 22,
     "metadata": {},
     "output_type": "execute_result"
    }
   ],
   "source": [
    "children_to_debt = data.groupby('children')['debt'].agg(['sum','count'])\n",
    "children_to_debt['debt_rate'] = children_to_debt['sum'] / children_to_debt['count'] * 100\n",
    "children_to_debt.sort_values(by ='debt_rate', ascending= False)"
   ]
  },
  {
   "cell_type": "markdown",
   "id": "bd7f9aee",
   "metadata": {
    "deletable": false,
    "id": "3a6b99ec"
   },
   "source": [
    "**Вывод:** В целом можно сказать, что количество детей влияет на возврат кредита в срок:\n",
    "для клиентов без детей количесвто долго сильно меньше чем для клиентов с детьми. \n",
    "Семьи с 5 детьми. мы можем убрать из общей выборки, т.к. их колличество сильно мало для наблюдения корреляции, однако и семей с 5 детьми и реальном мире немного."
   ]
  },
  {
   "cell_type": "markdown",
   "id": "f7918212",
   "metadata": {},
   "source": [
    "<div class=\"alert alert-danger\">\n",
    "<font size=\"5\"><b>Комментарий ревьюера</b></font>\n",
    "\n",
    "Ошибка: Не вижу анализа пункта по числу детей. Пожалуйста, добавь данный расчет. \n",
    "\n",
    "</div>"
   ]
  },
  {
   "cell_type": "markdown",
   "id": "e0966f16",
   "metadata": {},
   "source": [
    "<div class=\"alert alert-success\">\n",
    "<font size=\"5\"><b>Комментарий ревьюера</b></font>\n",
    "\n",
    "Успех: Вывод не противоречит полученному результату. \n",
    "\n",
    "</div>"
   ]
  },
  {
   "cell_type": "markdown",
   "id": "0a75114e",
   "metadata": {
    "deletable": false,
    "editable": false,
    "id": "97be82ca"
   },
   "source": [
    "#### 3.2 Есть ли зависимость между семейным положением и возвратом кредита в срок?"
   ]
  },
  {
   "cell_type": "code",
   "execution_count": 23,
   "id": "18dd6415",
   "metadata": {
    "deletable": false,
    "id": "dc3f7ee8",
    "scrolled": false
   },
   "outputs": [
    {
     "data": {
      "text/html": [
       "<div>\n",
       "<style scoped>\n",
       "    .dataframe tbody tr th:only-of-type {\n",
       "        vertical-align: middle;\n",
       "    }\n",
       "\n",
       "    .dataframe tbody tr th {\n",
       "        vertical-align: top;\n",
       "    }\n",
       "\n",
       "    .dataframe thead th {\n",
       "        text-align: right;\n",
       "    }\n",
       "</style>\n",
       "<table border=\"1\" class=\"dataframe\">\n",
       "  <thead>\n",
       "    <tr style=\"text-align: right;\">\n",
       "      <th></th>\n",
       "      <th>sum</th>\n",
       "      <th>count</th>\n",
       "      <th>ratio</th>\n",
       "    </tr>\n",
       "    <tr>\n",
       "      <th>family_status</th>\n",
       "      <th></th>\n",
       "      <th></th>\n",
       "      <th></th>\n",
       "    </tr>\n",
       "  </thead>\n",
       "  <tbody>\n",
       "    <tr>\n",
       "      <th>Не женат / не замужем</th>\n",
       "      <td>273</td>\n",
       "      <td>2796</td>\n",
       "      <td>0.097639</td>\n",
       "    </tr>\n",
       "    <tr>\n",
       "      <th>гражданский брак</th>\n",
       "      <td>385</td>\n",
       "      <td>4134</td>\n",
       "      <td>0.093130</td>\n",
       "    </tr>\n",
       "    <tr>\n",
       "      <th>женат / замужем</th>\n",
       "      <td>927</td>\n",
       "      <td>12261</td>\n",
       "      <td>0.075606</td>\n",
       "    </tr>\n",
       "    <tr>\n",
       "      <th>в разводе</th>\n",
       "      <td>84</td>\n",
       "      <td>1189</td>\n",
       "      <td>0.070648</td>\n",
       "    </tr>\n",
       "    <tr>\n",
       "      <th>вдовец / вдова</th>\n",
       "      <td>63</td>\n",
       "      <td>951</td>\n",
       "      <td>0.066246</td>\n",
       "    </tr>\n",
       "  </tbody>\n",
       "</table>\n",
       "</div>"
      ],
      "text/plain": [
       "                       sum  count     ratio\n",
       "family_status                              \n",
       "Не женат / не замужем  273   2796  0.097639\n",
       "гражданский брак       385   4134  0.093130\n",
       "женат / замужем        927  12261  0.075606\n",
       "в разводе               84   1189  0.070648\n",
       "вдовец / вдова          63    951  0.066246"
      ]
     },
     "execution_count": 23,
     "metadata": {},
     "output_type": "execute_result"
    }
   ],
   "source": [
    "family_status_debt = data.groupby('family_status')['debt'].agg(['sum','count'])\n",
    "\n",
    "def calc_ratio(row):\n",
    "    return row['sum'] / row['count']\n",
    "\n",
    "family_status_debt['ratio'] = family_status_debt.apply(calc_ratio, axis=1)\n",
    "\n",
    "family_status_debt = family_status_debt[['sum', 'count', 'ratio']]\n",
    "family_status_debt = family_status_debt.sort_values(by='ratio', ascending=False)\n",
    "family_status_debt"
   ]
  },
  {
   "cell_type": "markdown",
   "id": "52d346b9",
   "metadata": {
    "deletable": false,
    "id": "1cef7837"
   },
   "source": [
    "**Вывод:** женатые клиенты имеют наибольшую задолженность, практически в три раза больше чем люди находящиеся в гражданском браке, возможно это связано в т.ч. с кредитом на свадьбу.\n",
    "В целом видно что клиенты состоящие в браке (обычном или гражданском) имеют больше задолжностей, \n",
    "чем клиенты не состоящие в браке \n"
   ]
  },
  {
   "cell_type": "markdown",
   "id": "90f8f897",
   "metadata": {},
   "source": [
    "<div class=\"alert alert-info\"><b>Комментарий</b>\n",
    "Переделал график, и выводы координально изменились. \n",
    "</div>"
   ]
  },
  {
   "cell_type": "markdown",
   "id": "eb41796a",
   "metadata": {},
   "source": [
    "**Вывод v2:** \n",
    "Наибольший процент невозврата среди не состоящих в браке и живущих в гражданском браке, при этом видно что наибольшее количество кредитов берут клиенты  состоящие в браке.\n",
    "При этом мы видем что клиенты находящиеся в разводе и вдовы имеют меньше всего невыплат, но и колличество таких клиентов мало.\n",
    "\n",
    "    "
   ]
  },
  {
   "cell_type": "markdown",
   "id": "7a01636d",
   "metadata": {},
   "source": [
    "<div class=\"alert alert-danger\">\n",
    "<font size=\"5\"><b>Комментарий ревьюера</b></font>\n",
    "\n",
    "Ошибка: Смотри, ты судишь по абсолютным значениям. Что это значит? Там, где больше людей имеют долг, те группы и опаснее для банка. Однако может быть так, что число должников в определенной группе 1000, а кредит брали 100000. Тогда процент должников в группе будет 1%. А в другой группе должников может быть 500, но кредит брали 1000 человек. Доля должников - 50%. Как думаешь, что невыгоднее для банка? Судить по абсолютным значениям мы не можем. Надо найти долю должников в каждой из групп, потом уже сравнить полученны результаты и сделать вывод о том, какая группа хуже всего возвращает кредит. \n",
    "\n",
    "</div>"
   ]
  },
  {
   "cell_type": "markdown",
   "id": "c73449ff",
   "metadata": {},
   "source": [
    "<div class=\"alert alert-success\">\n",
    "<font size=\"5\"><b>Комментарий ревьюера 2</b></font>\n",
    "\n",
    "Успех: Подумай над причинами получения такого результата. \n",
    "\n",
    "</div>"
   ]
  },
  {
   "cell_type": "markdown",
   "id": "eb417550",
   "metadata": {
    "deletable": false,
    "editable": false,
    "id": "1e8b2fca"
   },
   "source": [
    "#### 3.3 Есть ли зависимость между уровнем дохода и возвратом кредита в срок?"
   ]
  },
  {
   "cell_type": "code",
   "execution_count": 24,
   "id": "a0ed4507",
   "metadata": {
    "deletable": false,
    "id": "cd7e3720"
   },
   "outputs": [
    {
     "data": {
      "text/html": [
       "<div>\n",
       "<style scoped>\n",
       "    .dataframe tbody tr th:only-of-type {\n",
       "        vertical-align: middle;\n",
       "    }\n",
       "\n",
       "    .dataframe tbody tr th {\n",
       "        vertical-align: top;\n",
       "    }\n",
       "\n",
       "    .dataframe thead th {\n",
       "        text-align: right;\n",
       "    }\n",
       "</style>\n",
       "<table border=\"1\" class=\"dataframe\">\n",
       "  <thead>\n",
       "    <tr style=\"text-align: right;\">\n",
       "      <th></th>\n",
       "      <th>sum</th>\n",
       "      <th>count</th>\n",
       "      <th>debt_rate</th>\n",
       "    </tr>\n",
       "    <tr>\n",
       "      <th>total_income_category</th>\n",
       "      <th></th>\n",
       "      <th></th>\n",
       "      <th></th>\n",
       "    </tr>\n",
       "  </thead>\n",
       "  <tbody>\n",
       "    <tr>\n",
       "      <th>&gt;400000</th>\n",
       "      <td>31</td>\n",
       "      <td>528</td>\n",
       "      <td>5.871212</td>\n",
       "    </tr>\n",
       "    <tr>\n",
       "      <th>30-50к</th>\n",
       "      <td>21</td>\n",
       "      <td>349</td>\n",
       "      <td>6.017192</td>\n",
       "    </tr>\n",
       "    <tr>\n",
       "      <th>200-300k</th>\n",
       "      <td>250</td>\n",
       "      <td>3565</td>\n",
       "      <td>7.012623</td>\n",
       "    </tr>\n",
       "    <tr>\n",
       "      <th>300-400k</th>\n",
       "      <td>75</td>\n",
       "      <td>946</td>\n",
       "      <td>7.928118</td>\n",
       "    </tr>\n",
       "    <tr>\n",
       "      <th>50-100к</th>\n",
       "      <td>331</td>\n",
       "      <td>4073</td>\n",
       "      <td>8.126688</td>\n",
       "    </tr>\n",
       "    <tr>\n",
       "      <th>100-200k</th>\n",
       "      <td>1022</td>\n",
       "      <td>11848</td>\n",
       "      <td>8.625928</td>\n",
       "    </tr>\n",
       "    <tr>\n",
       "      <th>до 30к</th>\n",
       "      <td>2</td>\n",
       "      <td>22</td>\n",
       "      <td>9.090909</td>\n",
       "    </tr>\n",
       "  </tbody>\n",
       "</table>\n",
       "</div>"
      ],
      "text/plain": [
       "                        sum  count  debt_rate\n",
       "total_income_category                        \n",
       ">400000                  31    528   5.871212\n",
       "30-50к                   21    349   6.017192\n",
       "200-300k                250   3565   7.012623\n",
       "300-400k                 75    946   7.928118\n",
       "50-100к                 331   4073   8.126688\n",
       "100-200k               1022  11848   8.625928\n",
       "до 30к                    2     22   9.090909"
      ]
     },
     "execution_count": 24,
     "metadata": {},
     "output_type": "execute_result"
    }
   ],
   "source": [
    "# Ваш код будет здесь. Вы можете создавать новые ячейки.\n",
    "\n",
    "def categorize_income(row):\n",
    "    if row['total_income'] <= 30000:\n",
    "        return 'до 30к'\n",
    "    elif row['total_income'] <= 50000:\n",
    "        return '30-50к'\n",
    "    elif row['total_income'] <= 100000:\n",
    "        return '50-100к'\n",
    "    elif row['total_income'] <= 200000:\n",
    "        return '100-200k'\n",
    "    elif row['total_income'] <= 300000:\n",
    "        return '200-300k'\n",
    "    elif row['total_income'] <= 400000:\n",
    "        return '300-400k'\n",
    "    else:\n",
    "        return '>400000'\n",
    "\n",
    "\n",
    "# примените функцию методом apply()\n",
    "data['total_income_category'] = data.apply(categorize_income, axis=1)\n",
    "income_debt = data.groupby('total_income_category')['debt'].agg(['sum','count'])\n",
    "income_debt['debt_rate'] = income_debt['sum'] / income_debt['count'] * 100\n",
    "income_debt.sort_values(by ='debt_rate')\n",
    "\n"
   ]
  },
  {
   "cell_type": "markdown",
   "id": "78d1a131",
   "metadata": {
    "deletable": false,
    "id": "e8593def"
   },
   "source": [
    "**Вывод:** \n",
    "Из данных видно: \n",
    "* большое количество возвратов кредита в срок наблюдается у категории дохода у клиентов с доходом более 400000, можно предположить что людей с такой зарплатой большая фин.грамотность.\n",
    "* у клиентов с доходом 30-50 также высокая ответственность, но возможно она связана с тем, что они не могут себе позволить платить пени по кредиту\n",
    "* клиенты с доходом  50 - 300 тысяч рублей находятся примерно в одной группе по невыплатам. \n",
    "* однако самой большой категорией с невыплатами является 100 - 200 тысяч рублей\n",
    "* до 30 мы не считаем топовым, потому что там недостаточная выборка на фоне остальных\n",
    "\n",
    " "
   ]
  },
  {
   "cell_type": "markdown",
   "id": "e05f5d72",
   "metadata": {},
   "source": [
    "<div class=\"alert alert-success\">\n",
    "<font size=\"5\"><b>Комментарий ревьюера</b></font>\n",
    "\n",
    "Успех: Соглашусь с отмеченными пунктами. Последнее предложение также верно. Данная группа слишком мала для построения по ним надежных выводов. \n",
    "\n",
    "</div>"
   ]
  },
  {
   "cell_type": "markdown",
   "id": "83c94dbc",
   "metadata": {
    "deletable": false,
    "editable": false,
    "id": "99ecbd1f"
   },
   "source": [
    "#### 3.4 Как разные цели кредита влияют на его возврат в срок?"
   ]
  },
  {
   "cell_type": "code",
   "execution_count": 37,
   "id": "3155839c",
   "metadata": {
    "deletable": false,
    "id": "2b687290"
   },
   "outputs": [
    {
     "data": {
      "text/html": [
       "<div>\n",
       "<style scoped>\n",
       "    .dataframe tbody tr th:only-of-type {\n",
       "        vertical-align: middle;\n",
       "    }\n",
       "\n",
       "    .dataframe tbody tr th {\n",
       "        vertical-align: top;\n",
       "    }\n",
       "\n",
       "    .dataframe thead th {\n",
       "        text-align: right;\n",
       "    }\n",
       "</style>\n",
       "<table border=\"1\" class=\"dataframe\">\n",
       "  <thead>\n",
       "    <tr style=\"text-align: right;\">\n",
       "      <th></th>\n",
       "      <th>sum</th>\n",
       "      <th>count</th>\n",
       "      <th>debt_purpose_rate</th>\n",
       "    </tr>\n",
       "    <tr>\n",
       "      <th>total_purpose_category</th>\n",
       "      <th></th>\n",
       "      <th></th>\n",
       "      <th></th>\n",
       "    </tr>\n",
       "  </thead>\n",
       "  <tbody>\n",
       "    <tr>\n",
       "      <th>Автомобиль</th>\n",
       "      <td>400</td>\n",
       "      <td>4279</td>\n",
       "      <td>9.347978</td>\n",
       "    </tr>\n",
       "    <tr>\n",
       "      <th>Недвижимость</th>\n",
       "      <td>780</td>\n",
       "      <td>10751</td>\n",
       "      <td>7.255139</td>\n",
       "    </tr>\n",
       "    <tr>\n",
       "      <th>Образование</th>\n",
       "      <td>369</td>\n",
       "      <td>3988</td>\n",
       "      <td>9.252758</td>\n",
       "    </tr>\n",
       "    <tr>\n",
       "      <th>Свадьба</th>\n",
       "      <td>183</td>\n",
       "      <td>2313</td>\n",
       "      <td>7.911803</td>\n",
       "    </tr>\n",
       "  </tbody>\n",
       "</table>\n",
       "</div>"
      ],
      "text/plain": [
       "                        sum  count  debt_purpose_rate\n",
       "total_purpose_category                               \n",
       "Автомобиль              400   4279           9.347978\n",
       "Недвижимость            780  10751           7.255139\n",
       "Образование             369   3988           9.252758\n",
       "Свадьба                 183   2313           7.911803"
      ]
     },
     "execution_count": 37,
     "metadata": {},
     "output_type": "execute_result"
    }
   ],
   "source": [
    "def categorize_purpose(row):\n",
    "    if 'свад' in row['purpose']:\n",
    "        return \"Свадьба\"\n",
    "    elif 'образов' in row['purpose']:\n",
    "        return \"Образование\"\n",
    "    elif 'авто' in row['purpose']:\n",
    "        return \"Автомобиль\"\n",
    "    elif 'недвиж' in row['purpose'] or 'жил' in row['purpose']:\n",
    "        return \"Недвижимость\"\n",
    "    \n",
    "data['total_purpose_category'] = data.apply(categorize_purpose, axis=1)\n",
    "purpose_debt = data.groupby('total_purpose_category')['debt'].agg(['sum','count'])\n",
    "purpose_debt['debt_purpose_rate'] = purpose_debt['sum'] / purpose_debt['count'] * 100\n",
    "purpose_debt.sort_values(by ='debt_purpose_rate',ascending = True)\n",
    "\n",
    "purpose_debt\n"
   ]
  },
  {
   "cell_type": "markdown",
   "id": "3a4db0ae",
   "metadata": {},
   "source": [
    "<div class=\"alert alert-danger\">\n",
    "<font size=\"5\"><b>Комментарий ревьюера</b></font>\n",
    "\n",
    "Ошибка: У нас уже есть категоризованный параметр purpose_category. Именно его и стоит анализировать. Проверь, совпадут ли результаты анализа данного параметра с твоим выше. \n",
    "\n",
    "</div>"
   ]
  },
  {
   "cell_type": "markdown",
   "id": "418a6d82",
   "metadata": {},
   "source": [
    "<div class=\"alert alert-info\"><b>Комментарий</b>\n",
    "Переделал задачу с использованием сводных таблиц, данные не изменились:\n",
    "</div>"
   ]
  },
  {
   "cell_type": "code",
   "execution_count": 40,
   "id": "30749f94",
   "metadata": {},
   "outputs": [
    {
     "data": {
      "text/html": [
       "<div>\n",
       "<style scoped>\n",
       "    .dataframe tbody tr th:only-of-type {\n",
       "        vertical-align: middle;\n",
       "    }\n",
       "\n",
       "    .dataframe tbody tr th {\n",
       "        vertical-align: top;\n",
       "    }\n",
       "\n",
       "    .dataframe thead tr th {\n",
       "        text-align: left;\n",
       "    }\n",
       "\n",
       "    .dataframe thead tr:last-of-type th {\n",
       "        text-align: right;\n",
       "    }\n",
       "</style>\n",
       "<table border=\"1\" class=\"dataframe\">\n",
       "  <thead>\n",
       "    <tr>\n",
       "      <th></th>\n",
       "      <th>sum</th>\n",
       "      <th>count</th>\n",
       "      <th>debt_rate</th>\n",
       "    </tr>\n",
       "    <tr>\n",
       "      <th></th>\n",
       "      <th>debt</th>\n",
       "      <th>debt</th>\n",
       "      <th></th>\n",
       "    </tr>\n",
       "    <tr>\n",
       "      <th>purpose_category</th>\n",
       "      <th></th>\n",
       "      <th></th>\n",
       "      <th></th>\n",
       "    </tr>\n",
       "  </thead>\n",
       "  <tbody>\n",
       "    <tr>\n",
       "      <th>операции с автомобилем</th>\n",
       "      <td>400</td>\n",
       "      <td>4279</td>\n",
       "      <td>9.347978</td>\n",
       "    </tr>\n",
       "    <tr>\n",
       "      <th>операции с недвижимостью</th>\n",
       "      <td>780</td>\n",
       "      <td>10751</td>\n",
       "      <td>7.255139</td>\n",
       "    </tr>\n",
       "    <tr>\n",
       "      <th>получение образования</th>\n",
       "      <td>369</td>\n",
       "      <td>3988</td>\n",
       "      <td>9.252758</td>\n",
       "    </tr>\n",
       "    <tr>\n",
       "      <th>проведение свадьбы</th>\n",
       "      <td>183</td>\n",
       "      <td>2313</td>\n",
       "      <td>7.911803</td>\n",
       "    </tr>\n",
       "  </tbody>\n",
       "</table>\n",
       "</div>"
      ],
      "text/plain": [
       "                          sum  count debt_rate\n",
       "                         debt   debt          \n",
       "purpose_category                              \n",
       "операции с автомобилем    400   4279  9.347978\n",
       "операции с недвижимостью  780  10751  7.255139\n",
       "получение образования     369   3988  9.252758\n",
       "проведение свадьбы        183   2313  7.911803"
      ]
     },
     "execution_count": 40,
     "metadata": {},
     "output_type": "execute_result"
    }
   ],
   "source": [
    "purpose_debt = data.pivot_table(values='debt', index='purpose_category', aggfunc=['sum', 'count'])\n",
    "purpose_debt['debt_rate'] = purpose_debt['sum'] / purpose_debt['count'] * 100\n",
    "purpose_debt.sort_values(by ='debt_rate',ascending = False)\n",
    "\n",
    "purpose_debt"
   ]
  },
  {
   "cell_type": "markdown",
   "id": "72c856a9",
   "metadata": {
    "deletable": false,
    "id": "b4bb2ce6"
   },
   "source": [
    "**Вывод:** \n",
    "Выгодней всего давать кредиты на недвижимость и свадьбы, а у автомобилей и образования процент невыплат почти 10 %\n"
   ]
  },
  {
   "cell_type": "markdown",
   "id": "2dfd6ad4",
   "metadata": {},
   "source": [
    "<div class=\"alert alert-danger\">\n",
    "<font size=\"5\"><b>Комментарий ревьюера</b></font>\n",
    "\n",
    "Ошибка: На данном шаге рекомендуется использовать метод сводных таблиц (pivot_table()). Однако он является аналогом метода groupby(). Изучи метод сводных таблиц и примени его хотя бы в одном пункте анализа.\n",
    "\n",
    "</div>"
   ]
  },
  {
   "cell_type": "markdown",
   "id": "08c4735e",
   "metadata": {},
   "source": [
    "<div class=\"alert alert-success\">\n",
    "<font size=\"5\"><b>Комментарий ревьюера 2</b></font>\n",
    "\n",
    "Успех: Отлично, метод сводных таблиц освоен. Он нам сильно пригодится в дальнейших проектах.\n",
    "\n",
    "</div>"
   ]
  },
  {
   "cell_type": "markdown",
   "id": "dad166e5",
   "metadata": {
    "deletable": false,
    "editable": false,
    "id": "09c3ac4c"
   },
   "source": [
    "#### 3.5 Приведите возможные причины появления пропусков в исходных данных."
   ]
  },
  {
   "cell_type": "markdown",
   "id": "1731df5b",
   "metadata": {
    "deletable": false,
    "id": "9da2ceda"
   },
   "source": [
    "*Ответ:* Один из столбцов с отсутствующими данными \"days_employed\", поле может быть незаполненным, например если\n",
    "в базу приходили данные из разных форм, а в одной из форм критерия обязательного заполнения в блоке опыт"
   ]
  },
  {
   "cell_type": "markdown",
   "id": "23297946",
   "metadata": {
    "deletable": false,
    "editable": false,
    "id": "7b0487d6"
   },
   "source": [
    "#### 3.6 Объясните, почему заполнить пропуски медианным значением — лучшее решение для количественных переменных."
   ]
  },
  {
   "cell_type": "markdown",
   "id": "6e6ee5da",
   "metadata": {
    "deletable": false,
    "id": "7ecf2b8e"
   },
   "source": [
    "*Ответ:* Медиана является средним значением в наборе данных, где половина значений находится ниже, а другая половина находится выше этого значения.\n",
    "\n",
    "Заполнение пропусков медианным значением в  предпочтительно для количественных переменных потому что медиана является хорошей оценкой для среднего значения, которое не зависит от выбросов,то есть не повлияет на данные из-за небольшого количества значений, которые сильно отличаются от остальных.\n",
    "Например если бы в столбце 'days_employed' , было слишком большое значение дней 999999, то оно бы не повлияло на медианное значение, но повлияло бы на среднее.\n"
   ]
  },
  {
   "cell_type": "markdown",
   "id": "f52f6b99",
   "metadata": {},
   "source": [
    "<div class=\"alert alert-success\">\n",
    "<font size=\"5\"><b>Комментарий ревьюера</b></font>\n",
    "\n",
    "Успех: Все верно. Медиана более устойчива к наличию выбросов в данных.\n",
    "\n",
    "</div>"
   ]
  },
  {
   "cell_type": "markdown",
   "id": "6f339c71",
   "metadata": {
    "deletable": false,
    "editable": false,
    "id": "6db5255a"
   },
   "source": [
    "### Шаг 4: общий вывод."
   ]
  },
  {
   "cell_type": "markdown",
   "id": "667c1c8e",
   "metadata": {
    "deletable": false,
    "id": "bad65432"
   },
   "source": [
    "Напишите ваш общий вывод.\n",
    "# Вывод\n",
    " ## Зависимость между количеством детей и возвратом кредита в срок\n",
    "  В целом можно сказать, что количество детей влияет на возврат кредита в срок: для клиентов без детей количесвто долго сильно меньше чем для клиентов с детьми. Семьи с 5 детьми мы можем убрать из общей выборки, т.к. их колличество сильно мало для наблюдения корреляции, однако и семей с 5 детьми и реальном мире сильно меньше тех у кого например 2 детей.\n",
    "  В принципе это логично, ведь дети это большой источник расходов.\n",
    " \n",
    " \n",
    " \n",
    " ## Зависимость между семейным положением и возвратом кредита в срок\n",
    "Наибольший процент невозврата среди не состоящих в браке и живущих в гражданском браке, можно предположить что такие люди менее ответственны. \n",
    "При этом видно что наибольшее количество кредитов берут клиенты состоящие в браке. При этом мы видем что клиенты находящиеся в разводе и вдовы имеют меньше всего невыплат, но и колличество таких клиентов мало.\n",
    " ## Зависимость между уровнем дохода и возвратом кредита в срок\n",
    "Из всех груп доходов наиболее выделяется группа 50-200к, возможно это связано с тем, что по данным на 2021 год мединанная зарплата по РФ составляла 35 675 рубля.\n",
    "Исходя из этого я могу сделать предположение, что начав получать свыше 50 тысяч и выше клиенты начинат в принципе больше брать кредитов, т.к. им кажется что для жизни им хватает 35тысяч, значит остальные деньги они могут потратить, в том числе и на кредиты.\n",
    "\n",
    "## Как разные цели кредита влияют на его возврат в срок\n",
    "Вывод: Выгодней всего давать кредиты на недвижимость и свадьбы, а у автомобилей и образования процент невыплат почти 10 %\n",
    "\n",
    "## Можно представить идеального клиента:\n",
    "- он в разводе, или вдовец\n",
    "- его доход составляет 30-50 тысяч рублей\n",
    "- у него нет детей\n",
    "- цель кредита: операции с недвижимостью \n"
   ]
  },
  {
   "cell_type": "markdown",
   "id": "5072609c",
   "metadata": {},
   "source": [
    "<div class=\"alert alert-danger\">\n",
    "<font size=\"5\"><b>Комментарий ревьюера</b></font>\n",
    "\n",
    "Ошибка: Выводы сделаны. Приведены ответы на главные вопросы проекта. В выводах можно приводить полученные ранее значения. Также можно расписать все, что было сделано в ходе проведения работы. Прошу лишь дописать часть про анализ доли долга в зависимости от числа детей, а также исправить вывод по пункту с анализом семейного положения. \n",
    "\n",
    "</div>"
   ]
  },
  {
   "cell_type": "markdown",
   "id": "bbe27565",
   "metadata": {},
   "source": [
    "<div class=\"alert alert-info\"><b>Комментарий</b>\n",
    "Исправил вывод на основании семейного положения,а  так же дополнил анализом доли долга в зависимости от числа детей</div>"
   ]
  },
  {
   "cell_type": "markdown",
   "id": "8675866e",
   "metadata": {},
   "source": [
    "<div class=\"alert alert-success\">\n",
    "<font size=\"5\"><b>Комментарий ревьюера 2</b></font>\n",
    "\n",
    "Успех: Выводы сделаны. Приведены ответы на главные вопросы проекта. В выводах можно приводить полученные ранее значения. Также можно расписать все, что было сделано в ходе проведения работы. \n",
    "\n",
    "</div>"
   ]
  },
  {
   "cell_type": "markdown",
   "id": "28b062d4",
   "metadata": {},
   "source": [
    "<div class=\"alert alert-info\">\n",
    "<font size=\"5\"><b>Комментарий ревьюера</b></font>\n",
    "\n",
    "Ты проделал большую работу, молодец! Ты овладел важными на данном этапе обучения инструментами, а также довольно качественно их используешь. Критических замечаний немного. Однако их важно исправить. Думаю, ты справишься со всеми ними. Жду твою работу :)\n",
    "\n",
    "</div>"
   ]
  },
  {
   "cell_type": "markdown",
   "id": "7a675e52",
   "metadata": {},
   "source": [
    "<div class=\"alert alert-success\">\n",
    "<font size=\"5\"><b>Комментарий ревьюера 2</b></font>\n",
    "\n",
    "Помарки исправлены, и теперь работа выполнена хорошо. Ты здорово поработал, молодец. Поздравляю со сданным проектом. Надеюсь, он был интересен и познавателен. Успехов в дальнейшем пути :)\n",
    "\n",
    "</div>"
   ]
  }
 ],
 "metadata": {
  "ExecuteTimeLog": [
   {
    "duration": 376,
    "start_time": "2023-01-29T15:51:31.086Z"
   },
   {
    "duration": 20,
    "start_time": "2023-01-29T15:51:37.401Z"
   },
   {
    "duration": 15,
    "start_time": "2023-01-29T15:51:41.489Z"
   },
   {
    "duration": 12,
    "start_time": "2023-01-29T15:51:48.771Z"
   },
   {
    "duration": 29,
    "start_time": "2023-01-29T15:51:53.216Z"
   },
   {
    "duration": 19,
    "start_time": "2023-01-29T15:55:53.379Z"
   },
   {
    "duration": 19,
    "start_time": "2023-01-29T15:56:03.201Z"
   },
   {
    "duration": 61,
    "start_time": "2023-01-29T15:56:33.369Z"
   },
   {
    "duration": 14,
    "start_time": "2023-01-29T15:56:33.432Z"
   },
   {
    "duration": 18,
    "start_time": "2023-01-29T15:56:33.447Z"
   },
   {
    "duration": 12,
    "start_time": "2023-01-29T15:56:33.467Z"
   },
   {
    "duration": 36,
    "start_time": "2023-01-29T15:56:33.481Z"
   },
   {
    "duration": 3,
    "start_time": "2023-01-29T15:56:33.518Z"
   },
   {
    "duration": 19,
    "start_time": "2023-01-29T15:56:33.522Z"
   },
   {
    "duration": 4,
    "start_time": "2023-01-29T15:56:33.542Z"
   },
   {
    "duration": 8,
    "start_time": "2023-01-29T15:56:33.547Z"
   },
   {
    "duration": 15,
    "start_time": "2023-01-29T15:56:33.557Z"
   },
   {
    "duration": 37,
    "start_time": "2023-01-29T15:56:33.573Z"
   },
   {
    "duration": 8,
    "start_time": "2023-01-29T15:56:33.612Z"
   },
   {
    "duration": 12,
    "start_time": "2023-01-29T15:56:33.621Z"
   },
   {
    "duration": 19,
    "start_time": "2023-01-29T15:56:33.637Z"
   },
   {
    "duration": 22,
    "start_time": "2023-01-29T15:56:33.658Z"
   },
   {
    "duration": 14,
    "start_time": "2023-01-29T15:56:33.681Z"
   },
   {
    "duration": 3,
    "start_time": "2023-01-29T15:56:33.697Z"
   },
   {
    "duration": 14,
    "start_time": "2023-01-29T15:56:33.701Z"
   },
   {
    "duration": 5,
    "start_time": "2023-01-29T15:56:33.717Z"
   },
   {
    "duration": 4,
    "start_time": "2023-01-29T15:56:33.723Z"
   },
   {
    "duration": 3,
    "start_time": "2023-01-29T15:56:37.714Z"
   },
   {
    "duration": 3,
    "start_time": "2023-01-29T15:56:38.238Z"
   },
   {
    "duration": 7,
    "start_time": "2023-01-29T15:56:38.868Z"
   },
   {
    "duration": 7,
    "start_time": "2023-01-29T15:56:39.602Z"
   },
   {
    "duration": 21,
    "start_time": "2023-01-29T15:56:42.914Z"
   },
   {
    "duration": 15,
    "start_time": "2023-01-29T16:11:02.465Z"
   },
   {
    "duration": 379,
    "start_time": "2023-01-29T16:30:36.992Z"
   },
   {
    "duration": 20,
    "start_time": "2023-01-29T16:30:37.373Z"
   },
   {
    "duration": 15,
    "start_time": "2023-01-29T16:30:37.395Z"
   },
   {
    "duration": 10,
    "start_time": "2023-01-29T16:30:37.412Z"
   },
   {
    "duration": 28,
    "start_time": "2023-01-29T16:30:37.437Z"
   },
   {
    "duration": 13,
    "start_time": "2023-01-29T16:30:37.467Z"
   },
   {
    "duration": 23,
    "start_time": "2023-01-29T16:30:37.482Z"
   },
   {
    "duration": 37,
    "start_time": "2023-01-29T16:30:37.507Z"
   },
   {
    "duration": 28,
    "start_time": "2023-01-29T16:30:37.546Z"
   },
   {
    "duration": 4,
    "start_time": "2023-01-29T16:30:37.577Z"
   },
   {
    "duration": 41,
    "start_time": "2023-01-29T16:30:37.583Z"
   },
   {
    "duration": 8,
    "start_time": "2023-01-29T16:30:37.625Z"
   },
   {
    "duration": 12,
    "start_time": "2023-01-29T16:30:37.634Z"
   },
   {
    "duration": 23,
    "start_time": "2023-01-29T16:30:37.647Z"
   },
   {
    "duration": 40,
    "start_time": "2023-01-29T16:30:37.672Z"
   },
   {
    "duration": 22,
    "start_time": "2023-01-29T16:30:37.713Z"
   },
   {
    "duration": 5,
    "start_time": "2023-01-29T16:30:37.736Z"
   },
   {
    "duration": 33,
    "start_time": "2023-01-29T16:30:37.742Z"
   },
   {
    "duration": 9,
    "start_time": "2023-01-29T16:30:37.777Z"
   },
   {
    "duration": 27,
    "start_time": "2023-01-29T16:30:37.787Z"
   },
   {
    "duration": 25,
    "start_time": "2023-01-29T16:30:37.816Z"
   },
   {
    "duration": 32,
    "start_time": "2023-01-29T16:30:37.842Z"
   },
   {
    "duration": 30,
    "start_time": "2023-01-29T16:30:37.875Z"
   },
   {
    "duration": 20,
    "start_time": "2023-01-29T16:30:37.907Z"
   },
   {
    "duration": 36,
    "start_time": "2023-01-29T16:30:37.929Z"
   },
   {
    "duration": 10,
    "start_time": "2023-01-29T16:42:25.269Z"
   },
   {
    "duration": 53,
    "start_time": "2023-01-29T16:42:55.329Z"
   },
   {
    "duration": 7,
    "start_time": "2023-01-29T17:33:06.178Z"
   },
   {
    "duration": 46,
    "start_time": "2023-01-29T17:34:56.776Z"
   },
   {
    "duration": 4,
    "start_time": "2023-01-29T17:35:16.708Z"
   },
   {
    "duration": 4,
    "start_time": "2023-01-29T17:35:20.739Z"
   },
   {
    "duration": 8,
    "start_time": "2023-01-29T17:35:31.265Z"
   },
   {
    "duration": 3,
    "start_time": "2023-01-29T17:36:10.747Z"
   },
   {
    "duration": 4,
    "start_time": "2023-01-29T17:36:55.906Z"
   },
   {
    "duration": 10,
    "start_time": "2023-01-29T17:37:03.471Z"
   },
   {
    "duration": 68,
    "start_time": "2023-01-29T17:40:04.191Z"
   },
   {
    "duration": 13,
    "start_time": "2023-01-29T17:40:28.737Z"
   },
   {
    "duration": 7,
    "start_time": "2023-01-29T17:40:34.905Z"
   },
   {
    "duration": 4,
    "start_time": "2023-01-29T17:47:13.387Z"
   },
   {
    "duration": 3,
    "start_time": "2023-01-29T17:47:21.911Z"
   },
   {
    "duration": 11,
    "start_time": "2023-01-29T17:56:00.824Z"
   },
   {
    "duration": 10,
    "start_time": "2023-01-29T17:56:16.467Z"
   },
   {
    "duration": 62,
    "start_time": "2023-01-29T17:56:23.266Z"
   },
   {
    "duration": 13,
    "start_time": "2023-01-29T17:56:23.330Z"
   },
   {
    "duration": 14,
    "start_time": "2023-01-29T17:56:23.345Z"
   },
   {
    "duration": 8,
    "start_time": "2023-01-29T17:56:23.362Z"
   },
   {
    "duration": 44,
    "start_time": "2023-01-29T17:56:23.372Z"
   },
   {
    "duration": 3,
    "start_time": "2023-01-29T17:56:23.418Z"
   },
   {
    "duration": 20,
    "start_time": "2023-01-29T17:56:23.423Z"
   },
   {
    "duration": 11,
    "start_time": "2023-01-29T17:56:23.444Z"
   },
   {
    "duration": 27,
    "start_time": "2023-01-29T17:56:23.456Z"
   },
   {
    "duration": 25,
    "start_time": "2023-01-29T17:56:23.485Z"
   },
   {
    "duration": 37,
    "start_time": "2023-01-29T17:56:23.511Z"
   },
   {
    "duration": 8,
    "start_time": "2023-01-29T17:56:23.550Z"
   },
   {
    "duration": 19,
    "start_time": "2023-01-29T17:56:23.560Z"
   },
   {
    "duration": 25,
    "start_time": "2023-01-29T17:56:23.581Z"
   },
   {
    "duration": 40,
    "start_time": "2023-01-29T17:56:23.608Z"
   },
   {
    "duration": 15,
    "start_time": "2023-01-29T17:56:23.650Z"
   },
   {
    "duration": 11,
    "start_time": "2023-01-29T17:56:23.667Z"
   },
   {
    "duration": 22,
    "start_time": "2023-01-29T17:56:23.680Z"
   },
   {
    "duration": 29,
    "start_time": "2023-01-29T17:56:23.704Z"
   },
   {
    "duration": 13,
    "start_time": "2023-01-29T17:56:23.734Z"
   },
   {
    "duration": 30,
    "start_time": "2023-01-29T17:56:23.748Z"
   },
   {
    "duration": 34,
    "start_time": "2023-01-29T17:56:23.779Z"
   },
   {
    "duration": 18,
    "start_time": "2023-01-29T17:56:23.815Z"
   },
   {
    "duration": 10,
    "start_time": "2023-01-29T17:56:25.296Z"
   },
   {
    "duration": 11,
    "start_time": "2023-01-29T17:56:30.428Z"
   },
   {
    "duration": 10,
    "start_time": "2023-01-29T17:56:37.985Z"
   },
   {
    "duration": 14,
    "start_time": "2023-01-29T17:56:47.834Z"
   },
   {
    "duration": 11,
    "start_time": "2023-01-29T17:56:53.297Z"
   },
   {
    "duration": 9,
    "start_time": "2023-01-29T17:59:25.272Z"
   },
   {
    "duration": 15,
    "start_time": "2023-01-29T17:59:32.795Z"
   },
   {
    "duration": 68,
    "start_time": "2023-01-29T17:59:44.092Z"
   },
   {
    "duration": 14,
    "start_time": "2023-01-29T17:59:44.162Z"
   },
   {
    "duration": 14,
    "start_time": "2023-01-29T17:59:44.178Z"
   },
   {
    "duration": 9,
    "start_time": "2023-01-29T17:59:44.194Z"
   },
   {
    "duration": 53,
    "start_time": "2023-01-29T17:59:44.204Z"
   },
   {
    "duration": 4,
    "start_time": "2023-01-29T17:59:44.259Z"
   },
   {
    "duration": 10,
    "start_time": "2023-01-29T17:59:44.264Z"
   },
   {
    "duration": 3,
    "start_time": "2023-01-29T17:59:44.275Z"
   },
   {
    "duration": 8,
    "start_time": "2023-01-29T17:59:44.280Z"
   },
   {
    "duration": 8,
    "start_time": "2023-01-29T17:59:44.289Z"
   },
   {
    "duration": 59,
    "start_time": "2023-01-29T17:59:44.298Z"
   },
   {
    "duration": 9,
    "start_time": "2023-01-29T17:59:44.359Z"
   },
   {
    "duration": 4,
    "start_time": "2023-01-29T17:59:44.370Z"
   },
   {
    "duration": 11,
    "start_time": "2023-01-29T17:59:44.375Z"
   },
   {
    "duration": 16,
    "start_time": "2023-01-29T17:59:44.387Z"
   },
   {
    "duration": 40,
    "start_time": "2023-01-29T17:59:44.405Z"
   },
   {
    "duration": 4,
    "start_time": "2023-01-29T17:59:44.446Z"
   },
   {
    "duration": 21,
    "start_time": "2023-01-29T17:59:44.451Z"
   },
   {
    "duration": 9,
    "start_time": "2023-01-29T17:59:44.474Z"
   },
   {
    "duration": 4,
    "start_time": "2023-01-29T17:59:44.484Z"
   },
   {
    "duration": 9,
    "start_time": "2023-01-29T17:59:44.489Z"
   },
   {
    "duration": 12,
    "start_time": "2023-01-29T17:59:44.500Z"
   },
   {
    "duration": 9,
    "start_time": "2023-01-29T17:59:52.900Z"
   },
   {
    "duration": 15,
    "start_time": "2023-01-29T18:00:11.144Z"
   },
   {
    "duration": 12,
    "start_time": "2023-01-29T18:00:24.517Z"
   },
   {
    "duration": 10,
    "start_time": "2023-01-29T18:02:23.150Z"
   },
   {
    "duration": 11,
    "start_time": "2023-01-29T18:02:42.995Z"
   },
   {
    "duration": 66,
    "start_time": "2023-01-29T18:02:49.758Z"
   },
   {
    "duration": 20,
    "start_time": "2023-01-29T18:02:49.826Z"
   },
   {
    "duration": 45,
    "start_time": "2023-01-29T18:02:49.848Z"
   },
   {
    "duration": 13,
    "start_time": "2023-01-29T18:02:49.896Z"
   },
   {
    "duration": 60,
    "start_time": "2023-01-29T18:02:49.913Z"
   },
   {
    "duration": 4,
    "start_time": "2023-01-29T18:02:49.975Z"
   },
   {
    "duration": 13,
    "start_time": "2023-01-29T18:02:49.982Z"
   },
   {
    "duration": 8,
    "start_time": "2023-01-29T18:02:49.997Z"
   },
   {
    "duration": 31,
    "start_time": "2023-01-29T18:02:50.007Z"
   },
   {
    "duration": 9,
    "start_time": "2023-01-29T18:02:50.041Z"
   },
   {
    "duration": 57,
    "start_time": "2023-01-29T18:02:50.052Z"
   },
   {
    "duration": 15,
    "start_time": "2023-01-29T18:02:50.111Z"
   },
   {
    "duration": 37,
    "start_time": "2023-01-29T18:02:50.128Z"
   },
   {
    "duration": 19,
    "start_time": "2023-01-29T18:02:50.168Z"
   },
   {
    "duration": 28,
    "start_time": "2023-01-29T18:02:50.189Z"
   },
   {
    "duration": 20,
    "start_time": "2023-01-29T18:02:50.219Z"
   },
   {
    "duration": 5,
    "start_time": "2023-01-29T18:02:50.241Z"
   },
   {
    "duration": 41,
    "start_time": "2023-01-29T18:02:50.248Z"
   },
   {
    "duration": 20,
    "start_time": "2023-01-29T18:02:50.291Z"
   },
   {
    "duration": 9,
    "start_time": "2023-01-29T18:02:50.314Z"
   },
   {
    "duration": 41,
    "start_time": "2023-01-29T18:02:50.332Z"
   },
   {
    "duration": 17,
    "start_time": "2023-01-29T18:02:50.375Z"
   },
   {
    "duration": 12,
    "start_time": "2023-01-29T18:02:50.393Z"
   },
   {
    "duration": 11,
    "start_time": "2023-01-29T18:02:53.231Z"
   },
   {
    "duration": 10,
    "start_time": "2023-01-29T18:02:54.618Z"
   },
   {
    "duration": 5,
    "start_time": "2023-01-29T18:13:15.779Z"
   },
   {
    "duration": 5,
    "start_time": "2023-01-29T18:13:19.663Z"
   },
   {
    "duration": 7,
    "start_time": "2023-01-29T18:13:24.018Z"
   },
   {
    "duration": 6,
    "start_time": "2023-01-29T18:14:05.632Z"
   },
   {
    "duration": 6,
    "start_time": "2023-01-29T18:14:18.527Z"
   },
   {
    "duration": 7,
    "start_time": "2023-01-29T18:14:27.445Z"
   },
   {
    "duration": 6,
    "start_time": "2023-01-29T18:15:15.420Z"
   },
   {
    "duration": 8,
    "start_time": "2023-01-29T18:15:56.133Z"
   },
   {
    "duration": 8,
    "start_time": "2023-01-29T18:23:04.047Z"
   },
   {
    "duration": 10,
    "start_time": "2023-01-29T18:25:02.485Z"
   },
   {
    "duration": 10,
    "start_time": "2023-01-29T18:25:13.565Z"
   },
   {
    "duration": 8,
    "start_time": "2023-01-29T18:25:18.457Z"
   },
   {
    "duration": 236,
    "start_time": "2023-01-29T18:51:56.746Z"
   },
   {
    "duration": 250,
    "start_time": "2023-01-29T18:53:45.955Z"
   },
   {
    "duration": 257,
    "start_time": "2023-01-29T18:53:49.455Z"
   },
   {
    "duration": 230,
    "start_time": "2023-01-29T18:54:58.690Z"
   },
   {
    "duration": 239,
    "start_time": "2023-01-29T18:55:39.531Z"
   },
   {
    "duration": 241,
    "start_time": "2023-01-29T18:58:43.635Z"
   },
   {
    "duration": 235,
    "start_time": "2023-01-29T18:59:00.731Z"
   },
   {
    "duration": 261,
    "start_time": "2023-01-29T19:02:06.955Z"
   },
   {
    "duration": 283,
    "start_time": "2023-01-29T19:03:26.034Z"
   },
   {
    "duration": 311,
    "start_time": "2023-01-29T19:06:29.038Z"
   },
   {
    "duration": 43,
    "start_time": "2023-01-29T19:10:49.026Z"
   },
   {
    "duration": 290,
    "start_time": "2023-01-29T19:10:56.200Z"
   },
   {
    "duration": 8,
    "start_time": "2023-01-29T19:40:57.919Z"
   },
   {
    "duration": 27,
    "start_time": "2023-01-29T19:52:28.768Z"
   },
   {
    "duration": 11,
    "start_time": "2023-01-29T19:52:59.254Z"
   },
   {
    "duration": 44,
    "start_time": "2023-01-29T20:32:33.558Z"
   },
   {
    "duration": 2,
    "start_time": "2023-01-29T20:32:52.000Z"
   },
   {
    "duration": 287,
    "start_time": "2023-01-29T20:35:21.082Z"
   },
   {
    "duration": 102,
    "start_time": "2023-01-29T20:36:02.226Z"
   },
   {
    "duration": 138,
    "start_time": "2023-01-29T20:36:53.830Z"
   },
   {
    "duration": 131,
    "start_time": "2023-01-29T20:37:03.948Z"
   },
   {
    "duration": 258,
    "start_time": "2023-01-29T20:39:06.326Z"
   },
   {
    "duration": 276,
    "start_time": "2023-01-29T20:43:14.632Z"
   },
   {
    "duration": 257,
    "start_time": "2023-01-29T20:43:26.621Z"
   },
   {
    "duration": 62,
    "start_time": "2023-01-29T20:43:31.067Z"
   },
   {
    "duration": 22,
    "start_time": "2023-01-29T20:43:31.131Z"
   },
   {
    "duration": 54,
    "start_time": "2023-01-29T20:43:31.154Z"
   },
   {
    "duration": 48,
    "start_time": "2023-01-29T20:43:31.209Z"
   },
   {
    "duration": 46,
    "start_time": "2023-01-29T20:43:31.259Z"
   },
   {
    "duration": 2,
    "start_time": "2023-01-29T20:43:31.307Z"
   },
   {
    "duration": 27,
    "start_time": "2023-01-29T20:43:31.311Z"
   },
   {
    "duration": 29,
    "start_time": "2023-01-29T20:43:31.339Z"
   },
   {
    "duration": 51,
    "start_time": "2023-01-29T20:43:31.370Z"
   },
   {
    "duration": 67,
    "start_time": "2023-01-29T20:43:31.425Z"
   },
   {
    "duration": 98,
    "start_time": "2023-01-29T20:43:31.494Z"
   },
   {
    "duration": 8,
    "start_time": "2023-01-29T20:43:31.593Z"
   },
   {
    "duration": 58,
    "start_time": "2023-01-29T20:43:31.603Z"
   },
   {
    "duration": 30,
    "start_time": "2023-01-29T20:43:31.663Z"
   },
   {
    "duration": 81,
    "start_time": "2023-01-29T20:43:31.695Z"
   },
   {
    "duration": 75,
    "start_time": "2023-01-29T20:43:31.777Z"
   },
   {
    "duration": 31,
    "start_time": "2023-01-29T20:43:31.853Z"
   },
   {
    "duration": 65,
    "start_time": "2023-01-29T20:43:31.886Z"
   },
   {
    "duration": 61,
    "start_time": "2023-01-29T20:43:31.953Z"
   },
   {
    "duration": 34,
    "start_time": "2023-01-29T20:43:32.016Z"
   },
   {
    "duration": 57,
    "start_time": "2023-01-29T20:43:32.052Z"
   },
   {
    "duration": 48,
    "start_time": "2023-01-29T20:43:32.110Z"
   },
   {
    "duration": 52,
    "start_time": "2023-01-29T20:43:32.159Z"
   },
   {
    "duration": 344,
    "start_time": "2023-01-29T20:43:32.212Z"
   },
   {
    "duration": 262,
    "start_time": "2023-01-29T20:43:33.231Z"
   },
   {
    "duration": 244,
    "start_time": "2023-01-29T20:46:11.773Z"
   },
   {
    "duration": 242,
    "start_time": "2023-01-29T20:47:18.142Z"
   },
   {
    "duration": 282,
    "start_time": "2023-01-29T20:53:27.775Z"
   },
   {
    "duration": 5,
    "start_time": "2023-01-29T20:53:42.381Z"
   },
   {
    "duration": 253,
    "start_time": "2023-01-29T20:53:50.366Z"
   },
   {
    "duration": 253,
    "start_time": "2023-01-29T20:53:59.650Z"
   },
   {
    "duration": 283,
    "start_time": "2023-01-29T22:43:55.790Z"
   },
   {
    "duration": 277,
    "start_time": "2023-01-29T22:44:53.947Z"
   },
   {
    "duration": 270,
    "start_time": "2023-01-29T22:45:21.889Z"
   },
   {
    "duration": 279,
    "start_time": "2023-01-29T22:49:39.626Z"
   },
   {
    "duration": 279,
    "start_time": "2023-01-29T22:50:44.631Z"
   },
   {
    "duration": 266,
    "start_time": "2023-01-29T22:52:51.630Z"
   },
   {
    "duration": 237,
    "start_time": "2023-01-29T22:53:12.905Z"
   },
   {
    "duration": 258,
    "start_time": "2023-01-29T22:53:47.887Z"
   },
   {
    "duration": 60,
    "start_time": "2023-01-29T22:54:01.447Z"
   },
   {
    "duration": 13,
    "start_time": "2023-01-29T22:54:01.509Z"
   },
   {
    "duration": 34,
    "start_time": "2023-01-29T22:54:01.523Z"
   },
   {
    "duration": 14,
    "start_time": "2023-01-29T22:54:01.559Z"
   },
   {
    "duration": 50,
    "start_time": "2023-01-29T22:54:01.574Z"
   },
   {
    "duration": 13,
    "start_time": "2023-01-29T22:54:01.625Z"
   },
   {
    "duration": 22,
    "start_time": "2023-01-29T22:54:01.640Z"
   },
   {
    "duration": 26,
    "start_time": "2023-01-29T22:54:01.664Z"
   },
   {
    "duration": 31,
    "start_time": "2023-01-29T22:54:01.692Z"
   },
   {
    "duration": 30,
    "start_time": "2023-01-29T22:54:01.725Z"
   },
   {
    "duration": 70,
    "start_time": "2023-01-29T22:54:01.757Z"
   },
   {
    "duration": 9,
    "start_time": "2023-01-29T22:54:01.829Z"
   },
   {
    "duration": 17,
    "start_time": "2023-01-29T22:54:01.840Z"
   },
   {
    "duration": 29,
    "start_time": "2023-01-29T22:54:01.858Z"
   },
   {
    "duration": 35,
    "start_time": "2023-01-29T22:54:01.888Z"
   },
   {
    "duration": 27,
    "start_time": "2023-01-29T22:54:01.925Z"
   },
   {
    "duration": 10,
    "start_time": "2023-01-29T22:54:01.954Z"
   },
   {
    "duration": 27,
    "start_time": "2023-01-29T22:54:01.965Z"
   },
   {
    "duration": 17,
    "start_time": "2023-01-29T22:54:01.994Z"
   },
   {
    "duration": 19,
    "start_time": "2023-01-29T22:54:02.013Z"
   },
   {
    "duration": 34,
    "start_time": "2023-01-29T22:54:02.034Z"
   },
   {
    "duration": 27,
    "start_time": "2023-01-29T22:54:02.070Z"
   },
   {
    "duration": 22,
    "start_time": "2023-01-29T22:54:02.098Z"
   },
   {
    "duration": 306,
    "start_time": "2023-01-29T22:54:02.122Z"
   },
   {
    "duration": 267,
    "start_time": "2023-01-29T22:54:02.430Z"
   },
   {
    "duration": 416,
    "start_time": "2023-01-29T23:07:35.001Z"
   },
   {
    "duration": 19,
    "start_time": "2023-01-29T23:07:35.419Z"
   },
   {
    "duration": 32,
    "start_time": "2023-01-29T23:07:35.439Z"
   },
   {
    "duration": 19,
    "start_time": "2023-01-29T23:07:35.473Z"
   },
   {
    "duration": 57,
    "start_time": "2023-01-29T23:07:35.493Z"
   },
   {
    "duration": 3,
    "start_time": "2023-01-29T23:07:35.551Z"
   },
   {
    "duration": 49,
    "start_time": "2023-01-29T23:07:35.555Z"
   },
   {
    "duration": 8,
    "start_time": "2023-01-29T23:07:35.606Z"
   },
   {
    "duration": 8,
    "start_time": "2023-01-29T23:07:35.615Z"
   },
   {
    "duration": 5,
    "start_time": "2023-01-29T23:07:35.627Z"
   },
   {
    "duration": 33,
    "start_time": "2023-01-29T23:07:35.633Z"
   },
   {
    "duration": 10,
    "start_time": "2023-01-29T23:07:35.668Z"
   },
   {
    "duration": 8,
    "start_time": "2023-01-29T23:07:35.679Z"
   },
   {
    "duration": 11,
    "start_time": "2023-01-29T23:07:35.689Z"
   },
   {
    "duration": 23,
    "start_time": "2023-01-29T23:07:35.702Z"
   },
   {
    "duration": 20,
    "start_time": "2023-01-29T23:07:35.726Z"
   },
   {
    "duration": 6,
    "start_time": "2023-01-29T23:07:35.748Z"
   },
   {
    "duration": 12,
    "start_time": "2023-01-29T23:07:35.755Z"
   },
   {
    "duration": 10,
    "start_time": "2023-01-29T23:07:35.768Z"
   },
   {
    "duration": 5,
    "start_time": "2023-01-29T23:07:35.779Z"
   },
   {
    "duration": 14,
    "start_time": "2023-01-29T23:07:35.785Z"
   },
   {
    "duration": 12,
    "start_time": "2023-01-29T23:07:35.800Z"
   },
   {
    "duration": 16,
    "start_time": "2023-01-29T23:07:35.813Z"
   },
   {
    "duration": 298,
    "start_time": "2023-01-29T23:07:35.830Z"
   },
   {
    "duration": 246,
    "start_time": "2023-01-29T23:07:36.129Z"
   },
   {
    "duration": 68,
    "start_time": "2023-01-30T18:33:57.435Z"
   },
   {
    "duration": 6,
    "start_time": "2023-01-30T18:34:14.728Z"
   },
   {
    "duration": 535,
    "start_time": "2023-01-30T18:34:26.567Z"
   },
   {
    "duration": 29,
    "start_time": "2023-01-30T18:34:27.104Z"
   },
   {
    "duration": 23,
    "start_time": "2023-01-30T18:34:27.136Z"
   },
   {
    "duration": 48,
    "start_time": "2023-01-30T18:34:27.162Z"
   },
   {
    "duration": 79,
    "start_time": "2023-01-30T18:34:27.213Z"
   },
   {
    "duration": 4,
    "start_time": "2023-01-30T18:34:27.293Z"
   },
   {
    "duration": 46,
    "start_time": "2023-01-30T18:34:27.299Z"
   },
   {
    "duration": 25,
    "start_time": "2023-01-30T18:34:27.346Z"
   },
   {
    "duration": 62,
    "start_time": "2023-01-30T18:34:27.373Z"
   },
   {
    "duration": 41,
    "start_time": "2023-01-30T18:34:27.438Z"
   },
   {
    "duration": 99,
    "start_time": "2023-01-30T18:34:27.484Z"
   },
   {
    "duration": 19,
    "start_time": "2023-01-30T18:34:27.585Z"
   },
   {
    "duration": 47,
    "start_time": "2023-01-30T18:34:27.606Z"
   },
   {
    "duration": 44,
    "start_time": "2023-01-30T18:34:27.655Z"
   },
   {
    "duration": 62,
    "start_time": "2023-01-30T18:34:27.702Z"
   },
   {
    "duration": 35,
    "start_time": "2023-01-30T18:34:27.766Z"
   },
   {
    "duration": 10,
    "start_time": "2023-01-30T18:34:27.803Z"
   },
   {
    "duration": 37,
    "start_time": "2023-01-30T18:34:27.815Z"
   },
   {
    "duration": 26,
    "start_time": "2023-01-30T18:34:27.854Z"
   },
   {
    "duration": 32,
    "start_time": "2023-01-30T18:34:27.882Z"
   },
   {
    "duration": 40,
    "start_time": "2023-01-30T18:34:27.916Z"
   },
   {
    "duration": 55,
    "start_time": "2023-01-30T18:34:27.958Z"
   },
   {
    "duration": 42,
    "start_time": "2023-01-30T18:34:28.015Z"
   },
   {
    "duration": 0,
    "start_time": "2023-01-30T18:34:28.060Z"
   },
   {
    "duration": 0,
    "start_time": "2023-01-30T18:34:28.061Z"
   },
   {
    "duration": 33,
    "start_time": "2023-01-30T18:34:48.583Z"
   },
   {
    "duration": 17,
    "start_time": "2023-01-30T18:35:43.457Z"
   },
   {
    "duration": 8,
    "start_time": "2023-01-30T18:35:51.344Z"
   },
   {
    "duration": 10,
    "start_time": "2023-01-30T18:35:54.926Z"
   },
   {
    "duration": 23,
    "start_time": "2023-01-30T18:40:06.291Z"
   },
   {
    "duration": 19,
    "start_time": "2023-01-30T18:40:11.917Z"
   },
   {
    "duration": 32,
    "start_time": "2023-01-30T18:40:19.511Z"
   },
   {
    "duration": 10,
    "start_time": "2023-01-30T18:43:24.082Z"
   },
   {
    "duration": 16,
    "start_time": "2023-01-30T18:43:31.385Z"
   },
   {
    "duration": 16,
    "start_time": "2023-01-30T18:47:37.775Z"
   },
   {
    "duration": 13,
    "start_time": "2023-01-30T18:58:02.305Z"
   },
   {
    "duration": 15,
    "start_time": "2023-01-30T18:58:14.541Z"
   },
   {
    "duration": 105,
    "start_time": "2023-01-30T18:58:25.842Z"
   },
   {
    "duration": 29,
    "start_time": "2023-01-30T18:58:25.951Z"
   },
   {
    "duration": 37,
    "start_time": "2023-01-30T18:58:25.982Z"
   },
   {
    "duration": 13,
    "start_time": "2023-01-30T18:58:26.022Z"
   },
   {
    "duration": 57,
    "start_time": "2023-01-30T18:58:26.036Z"
   },
   {
    "duration": 3,
    "start_time": "2023-01-30T18:58:26.095Z"
   },
   {
    "duration": 11,
    "start_time": "2023-01-30T18:58:26.100Z"
   },
   {
    "duration": 5,
    "start_time": "2023-01-30T18:58:26.113Z"
   },
   {
    "duration": 9,
    "start_time": "2023-01-30T18:58:26.120Z"
   },
   {
    "duration": 30,
    "start_time": "2023-01-30T18:58:26.132Z"
   },
   {
    "duration": 63,
    "start_time": "2023-01-30T18:58:26.164Z"
   },
   {
    "duration": 10,
    "start_time": "2023-01-30T18:58:26.229Z"
   },
   {
    "duration": 10,
    "start_time": "2023-01-30T18:58:26.241Z"
   },
   {
    "duration": 58,
    "start_time": "2023-01-30T18:58:26.253Z"
   },
   {
    "duration": 33,
    "start_time": "2023-01-30T18:58:26.313Z"
   },
   {
    "duration": 32,
    "start_time": "2023-01-30T18:58:26.348Z"
   },
   {
    "duration": 13,
    "start_time": "2023-01-30T18:58:26.384Z"
   },
   {
    "duration": 20,
    "start_time": "2023-01-30T18:58:26.399Z"
   },
   {
    "duration": 11,
    "start_time": "2023-01-30T18:58:26.421Z"
   },
   {
    "duration": 5,
    "start_time": "2023-01-30T18:58:26.434Z"
   },
   {
    "duration": 27,
    "start_time": "2023-01-30T18:58:26.441Z"
   },
   {
    "duration": 4,
    "start_time": "2023-01-30T20:34:54.215Z"
   },
   {
    "duration": 20,
    "start_time": "2023-01-30T20:35:01.751Z"
   },
   {
    "duration": 54,
    "start_time": "2023-01-30T20:40:21.348Z"
   },
   {
    "duration": 46,
    "start_time": "2023-01-30T20:40:28.706Z"
   },
   {
    "duration": 51,
    "start_time": "2023-01-31T09:10:12.584Z"
   },
   {
    "duration": 6,
    "start_time": "2023-01-31T09:12:38.843Z"
   },
   {
    "duration": 732,
    "start_time": "2023-01-31T09:12:57.594Z"
   },
   {
    "duration": 22,
    "start_time": "2023-01-31T09:12:58.328Z"
   },
   {
    "duration": 15,
    "start_time": "2023-01-31T09:12:58.352Z"
   },
   {
    "duration": 9,
    "start_time": "2023-01-31T09:12:58.369Z"
   },
   {
    "duration": 48,
    "start_time": "2023-01-31T09:12:58.380Z"
   },
   {
    "duration": 3,
    "start_time": "2023-01-31T09:12:58.430Z"
   },
   {
    "duration": 11,
    "start_time": "2023-01-31T09:12:58.435Z"
   },
   {
    "duration": 11,
    "start_time": "2023-01-31T09:12:58.447Z"
   },
   {
    "duration": 23,
    "start_time": "2023-01-31T09:12:58.460Z"
   },
   {
    "duration": 8,
    "start_time": "2023-01-31T09:12:58.485Z"
   },
   {
    "duration": 44,
    "start_time": "2023-01-31T09:12:58.494Z"
   },
   {
    "duration": 9,
    "start_time": "2023-01-31T09:12:58.539Z"
   },
   {
    "duration": 7,
    "start_time": "2023-01-31T09:12:58.550Z"
   },
   {
    "duration": 21,
    "start_time": "2023-01-31T09:12:58.558Z"
   },
   {
    "duration": 27,
    "start_time": "2023-01-31T09:12:58.580Z"
   },
   {
    "duration": 19,
    "start_time": "2023-01-31T09:12:58.609Z"
   },
   {
    "duration": 21,
    "start_time": "2023-01-31T09:12:58.630Z"
   },
   {
    "duration": 49,
    "start_time": "2023-01-31T09:12:58.653Z"
   },
   {
    "duration": 18,
    "start_time": "2023-01-31T09:12:58.704Z"
   },
   {
    "duration": 12,
    "start_time": "2023-01-31T09:12:58.724Z"
   },
   {
    "duration": 21,
    "start_time": "2023-01-31T09:12:58.737Z"
   },
   {
    "duration": 38,
    "start_time": "2023-01-31T09:12:58.760Z"
   },
   {
    "duration": 19,
    "start_time": "2023-01-31T09:12:58.800Z"
   },
   {
    "duration": 347,
    "start_time": "2023-01-31T09:12:58.821Z"
   },
   {
    "duration": 313,
    "start_time": "2023-01-31T09:12:59.169Z"
   },
   {
    "duration": 351,
    "start_time": "2023-01-31T09:13:35.536Z"
   },
   {
    "duration": 504,
    "start_time": "2023-01-31T09:13:47.449Z"
   },
   {
    "duration": 29,
    "start_time": "2023-01-31T09:13:47.954Z"
   },
   {
    "duration": 20,
    "start_time": "2023-01-31T09:13:47.985Z"
   },
   {
    "duration": 13,
    "start_time": "2023-01-31T09:13:48.008Z"
   },
   {
    "duration": 36,
    "start_time": "2023-01-31T09:13:48.022Z"
   },
   {
    "duration": 4,
    "start_time": "2023-01-31T09:13:48.093Z"
   },
   {
    "duration": 63,
    "start_time": "2023-01-31T09:13:48.098Z"
   },
   {
    "duration": 5,
    "start_time": "2023-01-31T09:13:48.163Z"
   },
   {
    "duration": 11,
    "start_time": "2023-01-31T09:13:48.170Z"
   },
   {
    "duration": 5,
    "start_time": "2023-01-31T09:13:48.184Z"
   },
   {
    "duration": 40,
    "start_time": "2023-01-31T09:13:48.190Z"
   },
   {
    "duration": 10,
    "start_time": "2023-01-31T09:13:48.231Z"
   },
   {
    "duration": 7,
    "start_time": "2023-01-31T09:13:48.243Z"
   },
   {
    "duration": 40,
    "start_time": "2023-01-31T09:13:48.252Z"
   },
   {
    "duration": 26,
    "start_time": "2023-01-31T09:13:48.294Z"
   },
   {
    "duration": 20,
    "start_time": "2023-01-31T09:13:48.321Z"
   },
   {
    "duration": 4,
    "start_time": "2023-01-31T09:13:48.343Z"
   },
   {
    "duration": 44,
    "start_time": "2023-01-31T09:13:48.349Z"
   },
   {
    "duration": 6,
    "start_time": "2023-01-31T09:13:48.395Z"
   },
   {
    "duration": 7,
    "start_time": "2023-01-31T09:13:48.403Z"
   },
   {
    "duration": 13,
    "start_time": "2023-01-31T09:13:48.411Z"
   },
   {
    "duration": 22,
    "start_time": "2023-01-31T09:13:48.427Z"
   },
   {
    "duration": 42,
    "start_time": "2023-01-31T09:13:48.451Z"
   },
   {
    "duration": 359,
    "start_time": "2023-01-31T09:13:48.495Z"
   },
   {
    "duration": 309,
    "start_time": "2023-01-31T09:13:48.855Z"
   },
   {
    "duration": 3,
    "start_time": "2023-01-31T09:13:59.584Z"
   },
   {
    "duration": 9,
    "start_time": "2023-01-31T09:14:01.210Z"
   },
   {
    "duration": 16,
    "start_time": "2023-01-31T09:16:39.201Z"
   },
   {
    "duration": 18,
    "start_time": "2023-01-31T09:17:17.419Z"
   },
   {
    "duration": 11,
    "start_time": "2023-01-31T09:18:02.694Z"
   },
   {
    "duration": 30,
    "start_time": "2023-01-31T09:20:11.250Z"
   },
   {
    "duration": 83,
    "start_time": "2023-01-31T09:20:27.257Z"
   },
   {
    "duration": 27,
    "start_time": "2023-01-31T09:20:32.762Z"
   },
   {
    "duration": 147,
    "start_time": "2023-01-31T09:22:23.521Z"
   },
   {
    "duration": 78,
    "start_time": "2023-01-31T09:22:24.332Z"
   },
   {
    "duration": 29,
    "start_time": "2023-01-31T09:24:35.575Z"
   },
   {
    "duration": 284,
    "start_time": "2023-01-31T09:24:48.004Z"
   },
   {
    "duration": 122,
    "start_time": "2023-01-31T09:25:11.658Z"
   },
   {
    "duration": 28,
    "start_time": "2023-01-31T09:25:57.082Z"
   },
   {
    "duration": 28,
    "start_time": "2023-01-31T09:26:26.649Z"
   },
   {
    "duration": 70,
    "start_time": "2023-01-31T09:28:11.840Z"
   },
   {
    "duration": 77,
    "start_time": "2023-01-31T09:31:54.339Z"
   }
  ],
  "colab": {
   "name": "dpp_template_part2.ipynb",
   "provenance": []
  },
  "kernelspec": {
   "display_name": "Python 3 (ipykernel)",
   "language": "python",
   "name": "python3"
  },
  "language_info": {
   "codemirror_mode": {
    "name": "ipython",
    "version": 3
   },
   "file_extension": ".py",
   "mimetype": "text/x-python",
   "name": "python",
   "nbconvert_exporter": "python",
   "pygments_lexer": "ipython3",
   "version": "3.9.5"
  },
  "toc": {
   "base_numbering": 1,
   "nav_menu": {},
   "number_sections": true,
   "sideBar": true,
   "skip_h1_title": true,
   "title_cell": "Table of Contents",
   "title_sidebar": "Contents",
   "toc_cell": false,
   "toc_position": {},
   "toc_section_display": true,
   "toc_window_display": false
  }
 },
 "nbformat": 4,
 "nbformat_minor": 5
}
